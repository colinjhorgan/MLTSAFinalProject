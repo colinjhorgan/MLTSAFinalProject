{
  "nbformat": 4,
  "nbformat_minor": 0,
  "metadata": {
    "colab": {
      "name": "CNN_Preprocessing_Spherical.ipynb",
      "provenance": [],
      "collapsed_sections": [],
      "include_colab_link": true
    },
    "kernelspec": {
      "name": "python3",
      "display_name": "Python 3"
    },
    "language_info": {
      "name": "python"
    }
  },
  "cells": [
    {
      "cell_type": "markdown",
      "metadata": {
        "id": "view-in-github",
        "colab_type": "text"
      },
      "source": [
        "<a href=\"https://colab.research.google.com/github/colinjhorgan/MLTSAFinalProject/blob/main/Preprocessing/CNN_Preprocessing_Spherical.ipynb\" target=\"_parent\"><img src=\"https://colab.research.google.com/assets/colab-badge.svg\" alt=\"Open In Colab\"/></a>"
      ]
    },
    {
      "cell_type": "code",
      "execution_count": null,
      "metadata": {
        "colab": {
          "base_uri": "https://localhost:8080/"
        },
        "id": "E78q75IKTzp9",
        "outputId": "53698417-0744-4e22-bd1d-2cc1cd87af29"
      },
      "outputs": [
        {
          "output_type": "stream",
          "name": "stdout",
          "text": [
            "Populating the interactive namespace from numpy and matplotlib\n"
          ]
        },
        {
          "output_type": "stream",
          "name": "stderr",
          "text": [
            "/usr/local/lib/python3.7/dist-packages/IPython/core/magics/pylab.py:161: UserWarning: pylab import has clobbered these variables: ['plt']\n",
            "`%matplotlib` prevents importing * from pylab and numpy\n",
            "  \"\\n`%matplotlib` prevents importing * from pylab and numpy\"\n"
          ]
        },
        {
          "output_type": "stream",
          "name": "stdout",
          "text": [
            "Mounted at /content/gdrive\n"
          ]
        }
      ],
      "source": [
        "import numpy as np\n",
        "import pandas as pd\n",
        "import seaborn as sns\n",
        "import pylab as plt\n",
        "%pylab inline\n",
        "\n",
        "from scipy.signal import resample_poly\n",
        "\n",
        "from google.colab import drive\n",
        "drive.mount('/content/gdrive')\n",
        "\n",
        "import warnings\n",
        "warnings.filterwarnings('ignore')"
      ]
    },
    {
      "cell_type": "code",
      "source": [
        "#Read in data\n",
        "path = '/content/gdrive/MyDrive/3. MSDS Courses/Machine Learning Time Series/MLTSA22 Project/Data/Phones_accelerometer.csv'\n",
        "paccel = pd.read_csv(path, index_col=0)\n",
        "\n",
        "paccel.tail(8)"
      ],
      "metadata": {
        "colab": {
          "base_uri": "https://localhost:8080/",
          "height": 331
        },
        "id": "gejnFZdET2yK",
        "outputId": "cd831a72-fc32-4a1f-e726-768ef9738490"
      },
      "execution_count": null,
      "outputs": [
        {
          "output_type": "execute_result",
          "data": {
            "text/plain": [
              "         Arrival_Time   Creation_Time         x         y         z User  \\\n",
              "Index                                                                      \n",
              "129045  1424778553265  92263731712000  1.379043  0.306454  9.959755    i   \n",
              "129046  1424778553286  92263752250000  1.532270  0.153227  9.959755    i   \n",
              "129047  1424778553306  92263772270000  1.379043  0.000000  9.959755    i   \n",
              "129048  1424778553315  92263781761000  1.379043  0.153227  9.959755    i   \n",
              "129049  1424778553346  92263812248000  1.379043  0.153227  9.806528    i   \n",
              "129050  1424778553366  92263832267000  1.532270  0.153227  9.806528    i   \n",
              "129051  1424778553386  92263852409000  1.532270  0.000000  9.959755    i   \n",
              "129052  1424778553395  92263861839000  1.379043  0.000000  9.959755    i   \n",
              "\n",
              "             Model        Device    gt  \n",
              "Index                                   \n",
              "129045  samsungold  samsungold_2  bike  \n",
              "129046  samsungold  samsungold_2  bike  \n",
              "129047  samsungold  samsungold_2  bike  \n",
              "129048  samsungold  samsungold_2  bike  \n",
              "129049  samsungold  samsungold_2  bike  \n",
              "129050  samsungold  samsungold_2  bike  \n",
              "129051  samsungold  samsungold_2  bike  \n",
              "129052  samsungold  samsungold_2  bike  "
            ],
            "text/html": [
              "\n",
              "  <div id=\"df-e4bdf3b6-0574-463a-8296-4785c371d596\">\n",
              "    <div class=\"colab-df-container\">\n",
              "      <div>\n",
              "<style scoped>\n",
              "    .dataframe tbody tr th:only-of-type {\n",
              "        vertical-align: middle;\n",
              "    }\n",
              "\n",
              "    .dataframe tbody tr th {\n",
              "        vertical-align: top;\n",
              "    }\n",
              "\n",
              "    .dataframe thead th {\n",
              "        text-align: right;\n",
              "    }\n",
              "</style>\n",
              "<table border=\"1\" class=\"dataframe\">\n",
              "  <thead>\n",
              "    <tr style=\"text-align: right;\">\n",
              "      <th></th>\n",
              "      <th>Arrival_Time</th>\n",
              "      <th>Creation_Time</th>\n",
              "      <th>x</th>\n",
              "      <th>y</th>\n",
              "      <th>z</th>\n",
              "      <th>User</th>\n",
              "      <th>Model</th>\n",
              "      <th>Device</th>\n",
              "      <th>gt</th>\n",
              "    </tr>\n",
              "    <tr>\n",
              "      <th>Index</th>\n",
              "      <th></th>\n",
              "      <th></th>\n",
              "      <th></th>\n",
              "      <th></th>\n",
              "      <th></th>\n",
              "      <th></th>\n",
              "      <th></th>\n",
              "      <th></th>\n",
              "      <th></th>\n",
              "    </tr>\n",
              "  </thead>\n",
              "  <tbody>\n",
              "    <tr>\n",
              "      <th>129045</th>\n",
              "      <td>1424778553265</td>\n",
              "      <td>92263731712000</td>\n",
              "      <td>1.379043</td>\n",
              "      <td>0.306454</td>\n",
              "      <td>9.959755</td>\n",
              "      <td>i</td>\n",
              "      <td>samsungold</td>\n",
              "      <td>samsungold_2</td>\n",
              "      <td>bike</td>\n",
              "    </tr>\n",
              "    <tr>\n",
              "      <th>129046</th>\n",
              "      <td>1424778553286</td>\n",
              "      <td>92263752250000</td>\n",
              "      <td>1.532270</td>\n",
              "      <td>0.153227</td>\n",
              "      <td>9.959755</td>\n",
              "      <td>i</td>\n",
              "      <td>samsungold</td>\n",
              "      <td>samsungold_2</td>\n",
              "      <td>bike</td>\n",
              "    </tr>\n",
              "    <tr>\n",
              "      <th>129047</th>\n",
              "      <td>1424778553306</td>\n",
              "      <td>92263772270000</td>\n",
              "      <td>1.379043</td>\n",
              "      <td>0.000000</td>\n",
              "      <td>9.959755</td>\n",
              "      <td>i</td>\n",
              "      <td>samsungold</td>\n",
              "      <td>samsungold_2</td>\n",
              "      <td>bike</td>\n",
              "    </tr>\n",
              "    <tr>\n",
              "      <th>129048</th>\n",
              "      <td>1424778553315</td>\n",
              "      <td>92263781761000</td>\n",
              "      <td>1.379043</td>\n",
              "      <td>0.153227</td>\n",
              "      <td>9.959755</td>\n",
              "      <td>i</td>\n",
              "      <td>samsungold</td>\n",
              "      <td>samsungold_2</td>\n",
              "      <td>bike</td>\n",
              "    </tr>\n",
              "    <tr>\n",
              "      <th>129049</th>\n",
              "      <td>1424778553346</td>\n",
              "      <td>92263812248000</td>\n",
              "      <td>1.379043</td>\n",
              "      <td>0.153227</td>\n",
              "      <td>9.806528</td>\n",
              "      <td>i</td>\n",
              "      <td>samsungold</td>\n",
              "      <td>samsungold_2</td>\n",
              "      <td>bike</td>\n",
              "    </tr>\n",
              "    <tr>\n",
              "      <th>129050</th>\n",
              "      <td>1424778553366</td>\n",
              "      <td>92263832267000</td>\n",
              "      <td>1.532270</td>\n",
              "      <td>0.153227</td>\n",
              "      <td>9.806528</td>\n",
              "      <td>i</td>\n",
              "      <td>samsungold</td>\n",
              "      <td>samsungold_2</td>\n",
              "      <td>bike</td>\n",
              "    </tr>\n",
              "    <tr>\n",
              "      <th>129051</th>\n",
              "      <td>1424778553386</td>\n",
              "      <td>92263852409000</td>\n",
              "      <td>1.532270</td>\n",
              "      <td>0.000000</td>\n",
              "      <td>9.959755</td>\n",
              "      <td>i</td>\n",
              "      <td>samsungold</td>\n",
              "      <td>samsungold_2</td>\n",
              "      <td>bike</td>\n",
              "    </tr>\n",
              "    <tr>\n",
              "      <th>129052</th>\n",
              "      <td>1424778553395</td>\n",
              "      <td>92263861839000</td>\n",
              "      <td>1.379043</td>\n",
              "      <td>0.000000</td>\n",
              "      <td>9.959755</td>\n",
              "      <td>i</td>\n",
              "      <td>samsungold</td>\n",
              "      <td>samsungold_2</td>\n",
              "      <td>bike</td>\n",
              "    </tr>\n",
              "  </tbody>\n",
              "</table>\n",
              "</div>\n",
              "      <button class=\"colab-df-convert\" onclick=\"convertToInteractive('df-e4bdf3b6-0574-463a-8296-4785c371d596')\"\n",
              "              title=\"Convert this dataframe to an interactive table.\"\n",
              "              style=\"display:none;\">\n",
              "        \n",
              "  <svg xmlns=\"http://www.w3.org/2000/svg\" height=\"24px\"viewBox=\"0 0 24 24\"\n",
              "       width=\"24px\">\n",
              "    <path d=\"M0 0h24v24H0V0z\" fill=\"none\"/>\n",
              "    <path d=\"M18.56 5.44l.94 2.06.94-2.06 2.06-.94-2.06-.94-.94-2.06-.94 2.06-2.06.94zm-11 1L8.5 8.5l.94-2.06 2.06-.94-2.06-.94L8.5 2.5l-.94 2.06-2.06.94zm10 10l.94 2.06.94-2.06 2.06-.94-2.06-.94-.94-2.06-.94 2.06-2.06.94z\"/><path d=\"M17.41 7.96l-1.37-1.37c-.4-.4-.92-.59-1.43-.59-.52 0-1.04.2-1.43.59L10.3 9.45l-7.72 7.72c-.78.78-.78 2.05 0 2.83L4 21.41c.39.39.9.59 1.41.59.51 0 1.02-.2 1.41-.59l7.78-7.78 2.81-2.81c.8-.78.8-2.07 0-2.86zM5.41 20L4 18.59l7.72-7.72 1.47 1.35L5.41 20z\"/>\n",
              "  </svg>\n",
              "      </button>\n",
              "      \n",
              "  <style>\n",
              "    .colab-df-container {\n",
              "      display:flex;\n",
              "      flex-wrap:wrap;\n",
              "      gap: 12px;\n",
              "    }\n",
              "\n",
              "    .colab-df-convert {\n",
              "      background-color: #E8F0FE;\n",
              "      border: none;\n",
              "      border-radius: 50%;\n",
              "      cursor: pointer;\n",
              "      display: none;\n",
              "      fill: #1967D2;\n",
              "      height: 32px;\n",
              "      padding: 0 0 0 0;\n",
              "      width: 32px;\n",
              "    }\n",
              "\n",
              "    .colab-df-convert:hover {\n",
              "      background-color: #E2EBFA;\n",
              "      box-shadow: 0px 1px 2px rgba(60, 64, 67, 0.3), 0px 1px 3px 1px rgba(60, 64, 67, 0.15);\n",
              "      fill: #174EA6;\n",
              "    }\n",
              "\n",
              "    [theme=dark] .colab-df-convert {\n",
              "      background-color: #3B4455;\n",
              "      fill: #D2E3FC;\n",
              "    }\n",
              "\n",
              "    [theme=dark] .colab-df-convert:hover {\n",
              "      background-color: #434B5C;\n",
              "      box-shadow: 0px 1px 3px 1px rgba(0, 0, 0, 0.15);\n",
              "      filter: drop-shadow(0px 1px 2px rgba(0, 0, 0, 0.3));\n",
              "      fill: #FFFFFF;\n",
              "    }\n",
              "  </style>\n",
              "\n",
              "      <script>\n",
              "        const buttonEl =\n",
              "          document.querySelector('#df-e4bdf3b6-0574-463a-8296-4785c371d596 button.colab-df-convert');\n",
              "        buttonEl.style.display =\n",
              "          google.colab.kernel.accessAllowed ? 'block' : 'none';\n",
              "\n",
              "        async function convertToInteractive(key) {\n",
              "          const element = document.querySelector('#df-e4bdf3b6-0574-463a-8296-4785c371d596');\n",
              "          const dataTable =\n",
              "            await google.colab.kernel.invokeFunction('convertToInteractive',\n",
              "                                                     [key], {});\n",
              "          if (!dataTable) return;\n",
              "\n",
              "          const docLinkHtml = 'Like what you see? Visit the ' +\n",
              "            '<a target=\"_blank\" href=https://colab.research.google.com/notebooks/data_table.ipynb>data table notebook</a>'\n",
              "            + ' to learn more about interactive tables.';\n",
              "          element.innerHTML = '';\n",
              "          dataTable['output_type'] = 'display_data';\n",
              "          await google.colab.output.renderOutput(dataTable, element);\n",
              "          const docLink = document.createElement('div');\n",
              "          docLink.innerHTML = docLinkHtml;\n",
              "          element.appendChild(docLink);\n",
              "        }\n",
              "      </script>\n",
              "    </div>\n",
              "  </div>\n",
              "  "
            ]
          },
          "metadata": {},
          "execution_count": 2
        }
      ]
    },
    {
      "cell_type": "code",
      "source": [
        "#gt contains nan values so we impute them with 'no_task'\n",
        "paccel['gt'] = paccel['gt'].fillna('no_task')"
      ],
      "metadata": {
        "id": "mLfsBqnET4hw"
      },
      "execution_count": null,
      "outputs": []
    },
    {
      "cell_type": "code",
      "source": [
        "# get x,y,z values\n",
        "x = paccel[\"x\"].values\n",
        "y = paccel[\"y\"].values\n",
        "z = paccel[\"z\"].values"
      ],
      "metadata": {
        "id": "N4lF0ojMxIU1"
      },
      "execution_count": null,
      "outputs": []
    },
    {
      "cell_type": "code",
      "source": [
        "# cartesian to spherical\n",
        "p = np.sqrt(x**2 + y**2 + z**2)\n",
        "theta = np.arctan2(y,x)\n",
        "phi = np.arctan2(np.sqrt(x**2 + y**2),z)"
      ],
      "metadata": {
        "id": "NQwF_PaNxJid"
      },
      "execution_count": null,
      "outputs": []
    },
    {
      "cell_type": "code",
      "source": [
        "# set spherical coordinates\n",
        "paccel[\"rho\"] = p\n",
        "paccel[\"theta\"] = theta\n",
        "paccel[\"phi\"] = phi"
      ],
      "metadata": {
        "id": "tTXekBo-xKb3"
      },
      "execution_count": null,
      "outputs": []
    },
    {
      "cell_type": "code",
      "source": [
        "# resample to 15k\n",
        "rho_fixed = paccel.reset_index().groupby(['User','Model','Device','gt'])['rho'].apply(lambda rho : resample_poly(rho.values, 15050, rho.values.shape[0]))\n",
        "theta_fixed = paccel.reset_index().groupby(['User','Model','Device','gt'])['theta'].apply(lambda theta : resample_poly(theta.values, 15050, theta.values.shape[0]))\n",
        "phi_fixed = paccel.reset_index().groupby(['User','Model','Device','gt'])['phi'].apply(lambda phi : resample_poly(phi.values, 15050, phi.values.shape[0]))"
      ],
      "metadata": {
        "id": "2AH3uaEZxNWn"
      },
      "execution_count": null,
      "outputs": []
    },
    {
      "cell_type": "code",
      "source": [
        "# make new df\n",
        "new_df = rho_fixed.to_frame()\n",
        "new_df = new_df.merge(theta_fixed.to_frame(), left_index=True, right_index=True)\n",
        "new_df = new_df.merge(phi_fixed.to_frame(), left_index=True, right_index=True)"
      ],
      "metadata": {
        "id": "8gD-tfxexQDV"
      },
      "execution_count": null,
      "outputs": []
    },
    {
      "cell_type": "code",
      "source": [
        "#Standardize each series, and apply sliding window with length 100 and 50% overlap\n",
        "\n",
        "#sig = lambda x : 1/(1 + np.exp(-x)) # sigmoid function\n",
        "\n",
        "images = []\n",
        "for i in range(new_df.shape[0]):\n",
        "    x = new_df.iloc[[i]].rho.values[0]\n",
        "    y = new_df.iloc[[i]].theta.values[0]\n",
        "    z = new_df.iloc[[i]].phi.values[0]\n",
        "\n",
        "    x = ((x - x.min() ) / (x.max() - x.min()))\n",
        "    y = ((y - y.min() ) / (y.max() - y.min()))\n",
        "    z = ((z - z.min() ) / (z.max() - z.min()))\n",
        "    \n",
        "    r = np.stack([x[i:100+i] for i in range(0, 15000, 50)]) # stack elements using 100-sample window with 50% overlap\n",
        "    g = np.stack([y[i:100+i] for i in range(0, 15000, 50)])\n",
        "    b = np.stack([z[i:100+i] for i in range(0, 15000, 50)])\n",
        "    \n",
        "    vals = np.dstack([r,g,b])\n",
        "    images.append(vals)\n",
        "    \n",
        "im_arr = np.array(images)"
      ],
      "metadata": {
        "id": "atyISlC_xR5y"
      },
      "execution_count": null,
      "outputs": []
    },
    {
      "cell_type": "code",
      "source": [
        "im_arr.shape #(num_samples, height, length, num_layers)"
      ],
      "metadata": {
        "colab": {
          "base_uri": "https://localhost:8080/"
        },
        "id": "t6a9cRIXUCdN",
        "outputId": "4c4000d3-d0f3-48fa-a886-53d712fbc3f9"
      },
      "execution_count": null,
      "outputs": [
        {
          "output_type": "execute_result",
          "data": {
            "text/plain": [
              "(485, 300, 100, 3)"
            ]
          },
          "metadata": {},
          "execution_count": 25
        }
      ]
    },
    {
      "cell_type": "code",
      "source": [
        "np.save('/content/gdrive/MyDrive/3. MSDS Courses/Machine Learning Time Series/MLTSA22 Project/Data/image_array_polar.npy', im_arr)"
      ],
      "metadata": {
        "id": "gyEDs2r2UFST"
      },
      "execution_count": null,
      "outputs": []
    }
  ]
}