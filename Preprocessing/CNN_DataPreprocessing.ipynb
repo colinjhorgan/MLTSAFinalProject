{
 "cells": [
  {
   "cell_type": "code",
   "execution_count": 6,
   "metadata": {},
   "outputs": [
    {
     "name": "stdout",
     "output_type": "stream",
     "text": [
      "Populating the interactive namespace from numpy and matplotlib\n"
     ]
    }
   ],
   "source": [
    "import numpy as np\n",
    "import pandas as pd\n",
    "import seaborn as sns\n",
    "import pylab as plt\n",
    "%pylab inline\n",
    "\n",
    "from scipy.signal import resample_poly\n",
    "\n",
    "import warnings\n",
    "warnings.filterwarnings('ignore')"
   ]
  },
  {
   "cell_type": "code",
   "execution_count": 2,
   "metadata": {},
   "outputs": [
    {
     "data": {
      "text/html": [
       "<div>\n",
       "<style scoped>\n",
       "    .dataframe tbody tr th:only-of-type {\n",
       "        vertical-align: middle;\n",
       "    }\n",
       "\n",
       "    .dataframe tbody tr th {\n",
       "        vertical-align: top;\n",
       "    }\n",
       "\n",
       "    .dataframe thead th {\n",
       "        text-align: right;\n",
       "    }\n",
       "</style>\n",
       "<table border=\"1\" class=\"dataframe\">\n",
       "  <thead>\n",
       "    <tr style=\"text-align: right;\">\n",
       "      <th></th>\n",
       "      <th>Arrival_Time</th>\n",
       "      <th>Creation_Time</th>\n",
       "      <th>x</th>\n",
       "      <th>y</th>\n",
       "      <th>z</th>\n",
       "      <th>User</th>\n",
       "      <th>Model</th>\n",
       "      <th>Device</th>\n",
       "      <th>gt</th>\n",
       "    </tr>\n",
       "    <tr>\n",
       "      <th>Index</th>\n",
       "      <th></th>\n",
       "      <th></th>\n",
       "      <th></th>\n",
       "      <th></th>\n",
       "      <th></th>\n",
       "      <th></th>\n",
       "      <th></th>\n",
       "      <th></th>\n",
       "      <th></th>\n",
       "    </tr>\n",
       "  </thead>\n",
       "  <tbody>\n",
       "    <tr>\n",
       "      <th>129045</th>\n",
       "      <td>1424778553265</td>\n",
       "      <td>92263731712000</td>\n",
       "      <td>1.379043</td>\n",
       "      <td>0.306454</td>\n",
       "      <td>9.959755</td>\n",
       "      <td>i</td>\n",
       "      <td>samsungold</td>\n",
       "      <td>samsungold_2</td>\n",
       "      <td>bike</td>\n",
       "    </tr>\n",
       "    <tr>\n",
       "      <th>129046</th>\n",
       "      <td>1424778553286</td>\n",
       "      <td>92263752250000</td>\n",
       "      <td>1.532270</td>\n",
       "      <td>0.153227</td>\n",
       "      <td>9.959755</td>\n",
       "      <td>i</td>\n",
       "      <td>samsungold</td>\n",
       "      <td>samsungold_2</td>\n",
       "      <td>bike</td>\n",
       "    </tr>\n",
       "    <tr>\n",
       "      <th>129047</th>\n",
       "      <td>1424778553306</td>\n",
       "      <td>92263772270000</td>\n",
       "      <td>1.379043</td>\n",
       "      <td>0.000000</td>\n",
       "      <td>9.959755</td>\n",
       "      <td>i</td>\n",
       "      <td>samsungold</td>\n",
       "      <td>samsungold_2</td>\n",
       "      <td>bike</td>\n",
       "    </tr>\n",
       "    <tr>\n",
       "      <th>129048</th>\n",
       "      <td>1424778553315</td>\n",
       "      <td>92263781761000</td>\n",
       "      <td>1.379043</td>\n",
       "      <td>0.153227</td>\n",
       "      <td>9.959755</td>\n",
       "      <td>i</td>\n",
       "      <td>samsungold</td>\n",
       "      <td>samsungold_2</td>\n",
       "      <td>bike</td>\n",
       "    </tr>\n",
       "    <tr>\n",
       "      <th>129049</th>\n",
       "      <td>1424778553346</td>\n",
       "      <td>92263812248000</td>\n",
       "      <td>1.379043</td>\n",
       "      <td>0.153227</td>\n",
       "      <td>9.806528</td>\n",
       "      <td>i</td>\n",
       "      <td>samsungold</td>\n",
       "      <td>samsungold_2</td>\n",
       "      <td>bike</td>\n",
       "    </tr>\n",
       "    <tr>\n",
       "      <th>129050</th>\n",
       "      <td>1424778553366</td>\n",
       "      <td>92263832267000</td>\n",
       "      <td>1.532270</td>\n",
       "      <td>0.153227</td>\n",
       "      <td>9.806528</td>\n",
       "      <td>i</td>\n",
       "      <td>samsungold</td>\n",
       "      <td>samsungold_2</td>\n",
       "      <td>bike</td>\n",
       "    </tr>\n",
       "    <tr>\n",
       "      <th>129051</th>\n",
       "      <td>1424778553386</td>\n",
       "      <td>92263852409000</td>\n",
       "      <td>1.532270</td>\n",
       "      <td>0.000000</td>\n",
       "      <td>9.959755</td>\n",
       "      <td>i</td>\n",
       "      <td>samsungold</td>\n",
       "      <td>samsungold_2</td>\n",
       "      <td>bike</td>\n",
       "    </tr>\n",
       "    <tr>\n",
       "      <th>129052</th>\n",
       "      <td>1424778553395</td>\n",
       "      <td>92263861839000</td>\n",
       "      <td>1.379043</td>\n",
       "      <td>0.000000</td>\n",
       "      <td>9.959755</td>\n",
       "      <td>i</td>\n",
       "      <td>samsungold</td>\n",
       "      <td>samsungold_2</td>\n",
       "      <td>bike</td>\n",
       "    </tr>\n",
       "  </tbody>\n",
       "</table>\n",
       "</div>"
      ],
      "text/plain": [
       "         Arrival_Time   Creation_Time         x         y         z User  \\\n",
       "Index                                                                      \n",
       "129045  1424778553265  92263731712000  1.379043  0.306454  9.959755    i   \n",
       "129046  1424778553286  92263752250000  1.532270  0.153227  9.959755    i   \n",
       "129047  1424778553306  92263772270000  1.379043  0.000000  9.959755    i   \n",
       "129048  1424778553315  92263781761000  1.379043  0.153227  9.959755    i   \n",
       "129049  1424778553346  92263812248000  1.379043  0.153227  9.806528    i   \n",
       "129050  1424778553366  92263832267000  1.532270  0.153227  9.806528    i   \n",
       "129051  1424778553386  92263852409000  1.532270  0.000000  9.959755    i   \n",
       "129052  1424778553395  92263861839000  1.379043  0.000000  9.959755    i   \n",
       "\n",
       "             Model        Device    gt  \n",
       "Index                                   \n",
       "129045  samsungold  samsungold_2  bike  \n",
       "129046  samsungold  samsungold_2  bike  \n",
       "129047  samsungold  samsungold_2  bike  \n",
       "129048  samsungold  samsungold_2  bike  \n",
       "129049  samsungold  samsungold_2  bike  \n",
       "129050  samsungold  samsungold_2  bike  \n",
       "129051  samsungold  samsungold_2  bike  \n",
       "129052  samsungold  samsungold_2  bike  "
      ]
     },
     "execution_count": 2,
     "metadata": {},
     "output_type": "execute_result"
    }
   ],
   "source": [
    "#Read in data\n",
    "path = 'Activity Recognition exp/Activity Recognition exp/Phones_accelerometer.csv'\n",
    "paccel = pd.read_csv(path, index_col=0)\n",
    "\n",
    "paccel.tail(8)"
   ]
  },
  {
   "cell_type": "code",
   "execution_count": 7,
   "metadata": {},
   "outputs": [],
   "source": [
    "#Resample all trials to 100Hz\n",
    "x_fixed = paccel.reset_index().groupby(['User','Model','Device','gt'])['x'].apply(lambda x : resample_poly(x.values, 15000, x.values.shape[0]))\n",
    "y_fixed = paccel.reset_index().groupby(['User','Model','Device','gt'])['y'].apply(lambda y : resample_poly(y.values, 15000, y.values.shape[0]))\n",
    "z_fixed = paccel.reset_index().groupby(['User','Model','Device','gt'])['z'].apply(lambda z : resample_poly(z.values, 15000, z.values.shape[0]))\n",
    "\n",
    "#Re-construct\n",
    "new_df = x_fixed.to_frame()\n",
    "new_df = new_df.merge(y_fixed.to_frame(), left_index=True, right_index=True)\n",
    "new_df = new_df.merge(z_fixed.to_frame(), left_index=True, right_index=True)"
   ]
  },
  {
   "cell_type": "code",
   "execution_count": 65,
   "metadata": {},
   "outputs": [],
   "source": [
    "#Standardize each series, and apply sliding window with length 100 and 50% overlap\n",
    "\n",
    "#sig = lambda x : 1/(1 + np.exp(-x)) # sigmoid function\n",
    "\n",
    "images = []\n",
    "for i in range(new_df.shape[0]):\n",
    "    x = new_df.iloc[[i]].x.values[0]\n",
    "    y = new_df.iloc[[i]].y.values[0]\n",
    "    z = new_df.iloc[[i]].z.values[0]\n",
    "\n",
    "    x = ((x - x.mean()) / x.std())\n",
    "    y = ((y - y.mean()) / y.std())\n",
    "    z = ((z - z.mean()) / z.std())\n",
    "    \n",
    "    r = np.stack([x[i:100+i] for i in range(0, 14950, 50)]) # stack elements using 100-sample window with 50% overlap\n",
    "    g = np.stack([y[i:100+i] for i in range(0, 14950, 50)])\n",
    "    b = np.stack([z[i:100+i] for i in range(0, 14950, 50)])\n",
    "    \n",
    "    vals = np.dstack([r,g,b])\n",
    "    images.append(vals)\n",
    "    \n",
    "im_arr = np.array(images)"
   ]
  },
  {
   "cell_type": "code",
   "execution_count": 67,
   "metadata": {},
   "outputs": [
    {
     "data": {
      "text/plain": [
       "(485, 299, 100, 3)"
      ]
     },
     "execution_count": 67,
     "metadata": {},
     "output_type": "execute_result"
    }
   ],
   "source": [
    "im_arr.shape"
   ]
  },
  {
   "cell_type": "code",
   "execution_count": 66,
   "metadata": {},
   "outputs": [
    {
     "data": {
      "text/plain": [
       "array([[[-0.31969175,  1.54587967, -5.53462403],\n",
       "        [-2.81318672,  2.42132793, -2.65935226],\n",
       "        [-2.0037575 ,  1.9087304 , -3.75544795],\n",
       "        ...,\n",
       "        [-2.15607704,  2.14214743, -2.71059801],\n",
       "        [-2.28155033,  2.01158073, -2.80924805],\n",
       "        [-2.24770779,  1.83332006, -2.88060289]],\n",
       "\n",
       "       [[-1.76631062,  4.38346196, -1.07517941],\n",
       "        [-1.77056579,  3.72143745, -1.06267993],\n",
       "        [-1.44315492,  3.30233537, -1.3577314 ],\n",
       "        ...,\n",
       "        [-3.73712589, -1.01013166, -3.24314148],\n",
       "        [-3.68208529, -0.72546475, -3.38413602],\n",
       "        [-3.43814237, -0.45934694, -3.17348672]],\n",
       "\n",
       "       [[-2.23066986,  1.53558617, -3.09697615],\n",
       "        [-1.53503089,  1.28817752, -3.38572827],\n",
       "        [-1.73345454,  0.85084826, -3.57522508],\n",
       "        ...,\n",
       "        [-1.85424213,  0.08600117, -3.74413206],\n",
       "        [-1.7913919 ,  0.17909599, -3.69485741],\n",
       "        [-1.58206471,  0.17635372, -3.78434762]],\n",
       "\n",
       "       ...,\n",
       "\n",
       "       [[-0.49424409, -0.75890629, -0.70153929],\n",
       "        [-0.95921082, -1.21351   ,  0.27342657],\n",
       "        [ 0.72580199,  0.50712875, -0.26413594],\n",
       "        ...,\n",
       "        [ 0.55104913,  1.56890568,  0.64055308],\n",
       "        [ 0.83458222,  1.44512523,  0.48619974],\n",
       "        [ 0.70201707,  1.57367214,  0.54417463]],\n",
       "\n",
       "       [[ 0.81830988,  1.50800703, -0.18814206],\n",
       "        [ 0.82741992,  1.36618669, -0.24087704],\n",
       "        [ 1.02968814,  1.17478051, -0.24514289],\n",
       "        ...,\n",
       "        [ 1.38228477,  2.09206537,  1.25415166],\n",
       "        [ 1.22201159,  1.88678189,  1.04253269],\n",
       "        [ 1.32807642,  1.51314391,  0.56192116]],\n",
       "\n",
       "       [[ 0.69414432,  1.61672703,  0.68616227],\n",
       "        [ 0.61407592,  1.44713548,  0.96622143],\n",
       "        [ 0.33324126,  1.5306155 ,  0.84487601],\n",
       "        ...,\n",
       "        [-0.95695741,  0.3955906 , -1.39514028],\n",
       "        [-0.82596264,  0.47456519, -1.99767218],\n",
       "        [-1.56455934,  0.80277471, -0.92719505]]])"
      ]
     },
     "execution_count": 66,
     "metadata": {},
     "output_type": "execute_result"
    }
   ],
   "source": [
    "im_arr[0]"
   ]
  },
  {
   "cell_type": "code",
   "execution_count": 59,
   "metadata": {},
   "outputs": [],
   "source": [
    "a = np.load('image_labels.npy')\n",
    "\n",
    "cats = pd.Categorical(a).codes"
   ]
  },
  {
   "cell_type": "code",
   "execution_count": 60,
   "metadata": {},
   "outputs": [
    {
     "data": {
      "text/plain": [
       "array([0, 1, 2, 3, 4, 5, 6, 0, 1, 2, 3, 4, 5, 6, 0, 1, 2, 3, 4, 5, 6, 0,\n",
       "       1, 2, 3, 4, 5, 6, 0, 1, 2, 3, 4, 5, 6, 0, 1, 3, 4, 5, 6, 0, 1, 2,\n",
       "       3, 4, 5, 6, 0, 1, 2, 3, 4, 5, 6, 0, 1, 2, 3, 4, 5, 6, 0, 1, 2, 3,\n",
       "       4, 5, 6, 0, 1, 2, 3, 4, 5, 6, 0, 1, 2, 3, 4, 5, 6, 0, 1, 2, 3, 4,\n",
       "       5, 6, 0, 1, 3, 5, 0, 1, 2, 3, 4, 5, 6, 0, 1, 2, 3, 4, 5, 6, 0, 1,\n",
       "       2, 3, 4, 5, 6, 0, 1, 2, 3, 4, 5, 6, 0, 1, 2, 3, 4, 5, 6, 0, 1, 2,\n",
       "       3, 4, 5, 6, 0, 1, 2, 3, 4, 5, 6, 0, 1, 2, 3, 4, 5, 6, 0, 1, 2, 3,\n",
       "       4, 5, 6, 0, 1, 2, 3, 4, 5, 6, 0, 1, 2, 3, 4, 5, 6, 0, 1, 2, 3, 4,\n",
       "       5, 6, 0, 1, 2, 3, 4, 5, 6, 0, 1, 2, 3, 4, 5, 6, 0, 1, 2, 3, 4, 5,\n",
       "       6, 2, 3, 4, 0, 1, 2, 3, 4, 5, 6, 0, 1, 2, 3, 4, 5, 6, 0, 1, 2, 3,\n",
       "       4, 5, 6, 0, 1, 2, 3, 4, 5, 6, 0, 1, 2, 3, 4, 5, 6, 0, 1, 2, 3, 4,\n",
       "       5, 6, 0, 1, 2, 3, 4, 5, 6, 0, 1, 2, 3, 4, 6, 0, 1, 2, 3, 4, 5, 6,\n",
       "       0, 1, 2, 3, 4, 5, 6, 0, 1, 2, 3, 4, 5, 6, 0, 1, 2, 3, 4, 5, 6, 0,\n",
       "       1, 2, 3, 4, 5, 6, 0, 1, 2, 3, 4, 5, 6, 0, 1, 2, 3, 4, 0, 1, 2, 3,\n",
       "       4, 5, 6, 0, 1, 2, 3, 4, 5, 6, 0, 1, 2, 3, 4, 5, 6, 0, 1, 2, 3, 4,\n",
       "       5, 6, 0, 1, 2, 3, 4, 5, 6, 0, 1, 2, 3, 4, 5, 6, 0, 1, 2, 3, 4, 5,\n",
       "       6, 0, 1, 2, 3, 4, 5, 6, 0, 1, 2, 3, 4, 5, 6, 0, 1, 2, 3, 4, 5, 6,\n",
       "       0, 1, 2, 3, 4, 5, 6, 0, 1, 2, 3, 4, 5, 6, 0, 1, 2, 3, 4, 5, 6, 0,\n",
       "       1, 2, 3, 4, 5, 6, 0, 1, 2, 3, 4, 5, 6, 0, 1, 2, 3, 4, 6, 0, 1, 2,\n",
       "       3, 4, 5, 6, 0, 1, 2, 3, 4, 5, 6, 0, 1, 2, 3, 4, 5, 6, 0, 1, 2, 3,\n",
       "       4, 5, 6, 0, 1, 2, 3, 4, 5, 6, 0, 1, 2, 3, 4, 5, 6, 0, 1, 2, 3, 4,\n",
       "       5, 6, 0, 1, 2, 3, 4, 5, 6, 0, 1, 2, 3, 4, 5, 6, 0, 1, 2, 3, 4, 5,\n",
       "       6], dtype=int8)"
      ]
     },
     "execution_count": 60,
     "metadata": {},
     "output_type": "execute_result"
    }
   ],
   "source": [
    "cats"
   ]
  },
  {
   "cell_type": "code",
   "execution_count": 63,
   "metadata": {},
   "outputs": [],
   "source": [
    "np.save('image_array.npy', im_arr)"
   ]
  }
 ],
 "metadata": {
  "kernelspec": {
   "display_name": "Python 3",
   "language": "python",
   "name": "python3"
  },
  "language_info": {
   "codemirror_mode": {
    "name": "ipython",
    "version": 3
   },
   "file_extension": ".py",
   "mimetype": "text/x-python",
   "name": "python",
   "nbconvert_exporter": "python",
   "pygments_lexer": "ipython3",
   "version": "3.7.6"
  }
 },
 "nbformat": 4,
 "nbformat_minor": 4
}
