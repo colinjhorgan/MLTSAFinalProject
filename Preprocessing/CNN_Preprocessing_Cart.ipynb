{
  "nbformat": 4,
  "nbformat_minor": 0,
  "metadata": {
    "colab": {
      "name": "CNN_Preprocessing Cart.ipynb",
      "provenance": [],
      "collapsed_sections": [],
      "include_colab_link": true
    },
    "kernelspec": {
      "name": "python3",
      "display_name": "Python 3"
    },
    "language_info": {
      "name": "python"
    }
  },
  "cells": [
    {
      "cell_type": "markdown",
      "metadata": {
        "id": "view-in-github",
        "colab_type": "text"
      },
      "source": [
        "<a href=\"https://colab.research.google.com/github/colinjhorgan/MLTSAFinalProject/blob/main/Preprocessing/CNN_Preprocessing_Cart.ipynb\" target=\"_parent\"><img src=\"https://colab.research.google.com/assets/colab-badge.svg\" alt=\"Open In Colab\"/></a>"
      ]
    },
    {
      "cell_type": "markdown",
      "source": [
        "## Imports\n",
        "---"
      ],
      "metadata": {
        "id": "wMEA6rH2kT_M"
      }
    },
    {
      "cell_type": "code",
      "execution_count": null,
      "metadata": {
        "id": "E78q75IKTzp9"
      },
      "outputs": [],
      "source": [
        "import numpy as np\n",
        "import pandas as pd\n",
        "import seaborn as sns\n",
        "import pylab as plt\n",
        "%pylab inline\n",
        "\n",
        "from scipy.signal import resample_poly\n",
        "\n",
        "from sklearn.neighbors import KNeighborsClassifier as KNN\n",
        "from sklearn.model_selection import cross_val_score\n",
        "\n",
        "from google.colab import drive\n",
        "drive.mount('/content/gdrive')\n",
        "\n",
        "import warnings\n",
        "warnings.filterwarnings('ignore')"
      ]
    },
    {
      "cell_type": "markdown",
      "source": [
        "## Import and Fix Data\n",
        "---"
      ],
      "metadata": {
        "id": "MlfoV4wxkXwV"
      }
    },
    {
      "cell_type": "code",
      "source": [
        "#Read in data\n",
        "path = '/content/gdrive/MyDrive/3. MSDS Courses/Machine Learning Time Series/MLTSA22 Project/Data/Phones_accelerometer.csv' # path may not match; add path here\n",
        "paccel = pd.read_csv(path, index_col=0)\n",
        "\n",
        "paccel.tail(8)"
      ],
      "metadata": {
        "id": "gejnFZdET2yK"
      },
      "execution_count": null,
      "outputs": []
    },
    {
      "cell_type": "code",
      "source": [
        "#gt contains nan values so we impute them with 'no_task'\n",
        "paccel['gt'] = paccel['gt'].fillna('no_task')"
      ],
      "metadata": {
        "id": "mLfsBqnET4hw"
      },
      "execution_count": null,
      "outputs": []
    },
    {
      "cell_type": "markdown",
      "source": [
        "## Resample Data\n",
        "---"
      ],
      "metadata": {
        "id": "ZGo1ylpfkfHk"
      }
    },
    {
      "cell_type": "code",
      "source": [
        "#Resample all trials to 100Hz\n",
        "x_fixed = paccel.reset_index().groupby(['User','Model','Device','gt'])['x'].apply(lambda x : resample_poly(x.values, 15050, x.values.shape[0]))\n",
        "y_fixed = paccel.reset_index().groupby(['User','Model','Device','gt'])['y'].apply(lambda y : resample_poly(y.values, 15050, y.values.shape[0]))\n",
        "z_fixed = paccel.reset_index().groupby(['User','Model','Device','gt'])['z'].apply(lambda z : resample_poly(z.values, 15050, z.values.shape[0]))\n",
        "\n",
        "#Re-construct\n",
        "new_df = x_fixed.to_frame()\n",
        "new_df = new_df.merge(y_fixed.to_frame(), left_index=True, right_index=True)\n",
        "new_df = new_df.merge(z_fixed.to_frame(), left_index=True, right_index=True)"
      ],
      "metadata": {
        "id": "9aFl1JvpT6EQ"
      },
      "execution_count": null,
      "outputs": []
    },
    {
      "cell_type": "markdown",
      "source": [
        "## Min-max Normalization and Window\n",
        "---"
      ],
      "metadata": {
        "id": "_oNqkLkkk7No"
      }
    },
    {
      "cell_type": "code",
      "source": [
        "#Standardize each series, and apply sliding window with length 100 and 50% overlap\n",
        "\n",
        "#sig = lambda x : 1/(1 + np.exp(-x)) # sigmoid function\n",
        "\n",
        "images = []\n",
        "for i in range(new_df.shape[0]):\n",
        "    x = new_df.iloc[[i]].x.values[0]\n",
        "    y = new_df.iloc[[i]].y.values[0]\n",
        "    z = new_df.iloc[[i]].z.values[0]\n",
        "\n",
        "    x = ((x - x.min() ) / (x.max() - x.min()))\n",
        "    y = ((y - y.min() ) / (y.max() - y.min()))\n",
        "    z = ((z - z.min() ) / (z.max() - z.min()))\n",
        "    \n",
        "    r = np.stack([x[i:100+i] for i in range(0, 15000, 50)]) # stack elements using 100-sample window with 50% overlap\n",
        "    g = np.stack([y[i:100+i] for i in range(0, 15000, 50)])\n",
        "    b = np.stack([z[i:100+i] for i in range(0, 15000, 50)])\n",
        "    \n",
        "    vals = np.dstack([r,g,b])\n",
        "    images.append(vals)\n",
        "    \n",
        "im_arr = np.array(images)"
      ],
      "metadata": {
        "id": "PIwXDN9WY5ql"
      },
      "execution_count": null,
      "outputs": []
    },
    {
      "cell_type": "code",
      "source": [
        "im_arr.shape #(num_samples, height, length, num_layers)"
      ],
      "metadata": {
        "colab": {
          "base_uri": "https://localhost:8080/"
        },
        "id": "t6a9cRIXUCdN",
        "outputId": "4e0f230e-7407-4875-d415-9d5dcefa0bd5"
      },
      "execution_count": null,
      "outputs": [
        {
          "output_type": "execute_result",
          "data": {
            "text/plain": [
              "(485, 300, 100, 3)"
            ]
          },
          "metadata": {},
          "execution_count": 8
        }
      ]
    },
    {
      "cell_type": "markdown",
      "source": [
        "## Saving the Data\n",
        "---"
      ],
      "metadata": {
        "id": "Gv14heNplByJ"
      }
    },
    {
      "cell_type": "code",
      "source": [
        "np.save('/content/gdrive/MyDrive/3. MSDS Courses/Machine Learning Time Series/MLTSA22 Project/Data/image_arrayminmax.npy', im_arr)"
      ],
      "metadata": {
        "id": "gyEDs2r2UFST"
      },
      "execution_count": null,
      "outputs": []
    }
  ]
}