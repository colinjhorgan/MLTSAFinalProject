{
  "nbformat": 4,
  "nbformat_minor": 0,
  "metadata": {
    "colab": {
      "name": "DataExploration.ipynb",
      "provenance": [],
      "collapsed_sections": [],
      "include_colab_link": true
    },
    "kernelspec": {
      "name": "python3",
      "display_name": "Python 3"
    },
    "language_info": {
      "name": "python"
    }
  },
  "cells": [
    {
      "cell_type": "markdown",
      "metadata": {
        "id": "view-in-github",
        "colab_type": "text"
      },
      "source": [
        "<a href=\"https://colab.research.google.com/github/colinjhorgan/MLTSAFinalProject/blob/main/Data%20Exploration/DataExploration.ipynb\" target=\"_parent\"><img src=\"https://colab.research.google.com/assets/colab-badge.svg\" alt=\"Open In Colab\"/></a>"
      ]
    },
    {
      "cell_type": "code",
      "execution_count": null,
      "metadata": {
        "colab": {
          "base_uri": "https://localhost:8080/"
        },
        "id": "TE9P2GV533gB",
        "outputId": "291a73a7-9f37-457f-d83f-268c9b9199aa"
      },
      "outputs": [
        {
          "output_type": "stream",
          "name": "stdout",
          "text": [
            "Populating the interactive namespace from numpy and matplotlib\n"
          ]
        },
        {
          "output_type": "stream",
          "name": "stderr",
          "text": [
            "/usr/local/lib/python3.7/dist-packages/IPython/core/magics/pylab.py:161: UserWarning: pylab import has clobbered these variables: ['plt']\n",
            "`%matplotlib` prevents importing * from pylab and numpy\n",
            "  \"\\n`%matplotlib` prevents importing * from pylab and numpy\"\n"
          ]
        }
      ],
      "source": [
        "import numpy as np\n",
        "import pandas as pd\n",
        "import pylab as plt\n",
        "%pylab inline\n",
        "\n",
        "import seaborn as sns\n",
        "\n",
        "from statsmodels.distributions.empirical_distribution import ECDF as ecdf\n",
        "\n",
        "from scipy.signal import resample_poly"
      ]
    },
    {
      "cell_type": "code",
      "source": [
        "from google.colab import drive\n",
        "drive.mount('/content/gdrive')"
      ],
      "metadata": {
        "colab": {
          "base_uri": "https://localhost:8080/"
        },
        "id": "J9Lrr4cL4SjM",
        "outputId": "297a7a0c-86d8-45a8-90c3-b4eafca4bb07"
      },
      "execution_count": null,
      "outputs": [
        {
          "output_type": "stream",
          "name": "stdout",
          "text": [
            "Mounted at /content/gdrive\n"
          ]
        }
      ]
    },
    {
      "cell_type": "code",
      "source": [
        "cd /content/gdrive/MyDrive/3. MSDS Courses/Machine Learning Time Series/MLTSA22 Project\n"
      ],
      "metadata": {
        "colab": {
          "base_uri": "https://localhost:8080/"
        },
        "id": "ZoAYFpfDKsG3",
        "outputId": "33e554a4-7551-475c-8b3b-98eca29c8228"
      },
      "execution_count": null,
      "outputs": [
        {
          "output_type": "stream",
          "name": "stdout",
          "text": [
            "/content/gdrive/.shortcut-targets-by-id/1LVVsMd6gKniMsFyJ0AQvztE0uDjwU-Fo/MLTSA22 Project\n"
          ]
        }
      ]
    },
    {
      "cell_type": "code",
      "source": [
        "ls Data"
      ],
      "metadata": {
        "colab": {
          "base_uri": "https://localhost:8080/"
        },
        "id": "2X61Rr6ZLAfr",
        "outputId": "675a011e-bcca-4fea-abe1-4a47ad6c0126"
      },
      "execution_count": null,
      "outputs": [
        {
          "output_type": "stream",
          "name": "stdout",
          "text": [
            "ECDF_Cartesian.csv       image_arrayminmax.npy  Phones_accelerometer.csv\n",
            "ECDF_Spherical.csv       image_array.npy        Time_Domain_Features.csv\n",
            "FFT_features.csv         image_array_polar.npy  Watch_accelerometer.csv\n",
            "image_array_clipped.npy  image_labels.npy\n"
          ]
        }
      ]
    },
    {
      "cell_type": "code",
      "source": [
        "#Read in data\n",
        "path = 'Data/Phones_accelerometer.csv'\n",
        "paccel = pd.read_csv(path, index_col=0)\n",
        "\n",
        "paccel.tail(8)"
      ],
      "metadata": {
        "colab": {
          "base_uri": "https://localhost:8080/",
          "height": 331
        },
        "id": "HhSq0dKQ4CJH",
        "outputId": "dcc45815-7922-4d82-9e88-d1df37feb3dc"
      },
      "execution_count": null,
      "outputs": [
        {
          "output_type": "execute_result",
          "data": {
            "text/plain": [
              "         Arrival_Time   Creation_Time         x         y         z User  \\\n",
              "Index                                                                      \n",
              "129045  1424778553265  92263731712000  1.379043  0.306454  9.959755    i   \n",
              "129046  1424778553286  92263752250000  1.532270  0.153227  9.959755    i   \n",
              "129047  1424778553306  92263772270000  1.379043  0.000000  9.959755    i   \n",
              "129048  1424778553315  92263781761000  1.379043  0.153227  9.959755    i   \n",
              "129049  1424778553346  92263812248000  1.379043  0.153227  9.806528    i   \n",
              "129050  1424778553366  92263832267000  1.532270  0.153227  9.806528    i   \n",
              "129051  1424778553386  92263852409000  1.532270  0.000000  9.959755    i   \n",
              "129052  1424778553395  92263861839000  1.379043  0.000000  9.959755    i   \n",
              "\n",
              "             Model        Device    gt  \n",
              "Index                                   \n",
              "129045  samsungold  samsungold_2  bike  \n",
              "129046  samsungold  samsungold_2  bike  \n",
              "129047  samsungold  samsungold_2  bike  \n",
              "129048  samsungold  samsungold_2  bike  \n",
              "129049  samsungold  samsungold_2  bike  \n",
              "129050  samsungold  samsungold_2  bike  \n",
              "129051  samsungold  samsungold_2  bike  \n",
              "129052  samsungold  samsungold_2  bike  "
            ],
            "text/html": [
              "\n",
              "  <div id=\"df-d6955f2b-2a1a-4654-886b-dbabe2131965\">\n",
              "    <div class=\"colab-df-container\">\n",
              "      <div>\n",
              "<style scoped>\n",
              "    .dataframe tbody tr th:only-of-type {\n",
              "        vertical-align: middle;\n",
              "    }\n",
              "\n",
              "    .dataframe tbody tr th {\n",
              "        vertical-align: top;\n",
              "    }\n",
              "\n",
              "    .dataframe thead th {\n",
              "        text-align: right;\n",
              "    }\n",
              "</style>\n",
              "<table border=\"1\" class=\"dataframe\">\n",
              "  <thead>\n",
              "    <tr style=\"text-align: right;\">\n",
              "      <th></th>\n",
              "      <th>Arrival_Time</th>\n",
              "      <th>Creation_Time</th>\n",
              "      <th>x</th>\n",
              "      <th>y</th>\n",
              "      <th>z</th>\n",
              "      <th>User</th>\n",
              "      <th>Model</th>\n",
              "      <th>Device</th>\n",
              "      <th>gt</th>\n",
              "    </tr>\n",
              "    <tr>\n",
              "      <th>Index</th>\n",
              "      <th></th>\n",
              "      <th></th>\n",
              "      <th></th>\n",
              "      <th></th>\n",
              "      <th></th>\n",
              "      <th></th>\n",
              "      <th></th>\n",
              "      <th></th>\n",
              "      <th></th>\n",
              "    </tr>\n",
              "  </thead>\n",
              "  <tbody>\n",
              "    <tr>\n",
              "      <th>129045</th>\n",
              "      <td>1424778553265</td>\n",
              "      <td>92263731712000</td>\n",
              "      <td>1.379043</td>\n",
              "      <td>0.306454</td>\n",
              "      <td>9.959755</td>\n",
              "      <td>i</td>\n",
              "      <td>samsungold</td>\n",
              "      <td>samsungold_2</td>\n",
              "      <td>bike</td>\n",
              "    </tr>\n",
              "    <tr>\n",
              "      <th>129046</th>\n",
              "      <td>1424778553286</td>\n",
              "      <td>92263752250000</td>\n",
              "      <td>1.532270</td>\n",
              "      <td>0.153227</td>\n",
              "      <td>9.959755</td>\n",
              "      <td>i</td>\n",
              "      <td>samsungold</td>\n",
              "      <td>samsungold_2</td>\n",
              "      <td>bike</td>\n",
              "    </tr>\n",
              "    <tr>\n",
              "      <th>129047</th>\n",
              "      <td>1424778553306</td>\n",
              "      <td>92263772270000</td>\n",
              "      <td>1.379043</td>\n",
              "      <td>0.000000</td>\n",
              "      <td>9.959755</td>\n",
              "      <td>i</td>\n",
              "      <td>samsungold</td>\n",
              "      <td>samsungold_2</td>\n",
              "      <td>bike</td>\n",
              "    </tr>\n",
              "    <tr>\n",
              "      <th>129048</th>\n",
              "      <td>1424778553315</td>\n",
              "      <td>92263781761000</td>\n",
              "      <td>1.379043</td>\n",
              "      <td>0.153227</td>\n",
              "      <td>9.959755</td>\n",
              "      <td>i</td>\n",
              "      <td>samsungold</td>\n",
              "      <td>samsungold_2</td>\n",
              "      <td>bike</td>\n",
              "    </tr>\n",
              "    <tr>\n",
              "      <th>129049</th>\n",
              "      <td>1424778553346</td>\n",
              "      <td>92263812248000</td>\n",
              "      <td>1.379043</td>\n",
              "      <td>0.153227</td>\n",
              "      <td>9.806528</td>\n",
              "      <td>i</td>\n",
              "      <td>samsungold</td>\n",
              "      <td>samsungold_2</td>\n",
              "      <td>bike</td>\n",
              "    </tr>\n",
              "    <tr>\n",
              "      <th>129050</th>\n",
              "      <td>1424778553366</td>\n",
              "      <td>92263832267000</td>\n",
              "      <td>1.532270</td>\n",
              "      <td>0.153227</td>\n",
              "      <td>9.806528</td>\n",
              "      <td>i</td>\n",
              "      <td>samsungold</td>\n",
              "      <td>samsungold_2</td>\n",
              "      <td>bike</td>\n",
              "    </tr>\n",
              "    <tr>\n",
              "      <th>129051</th>\n",
              "      <td>1424778553386</td>\n",
              "      <td>92263852409000</td>\n",
              "      <td>1.532270</td>\n",
              "      <td>0.000000</td>\n",
              "      <td>9.959755</td>\n",
              "      <td>i</td>\n",
              "      <td>samsungold</td>\n",
              "      <td>samsungold_2</td>\n",
              "      <td>bike</td>\n",
              "    </tr>\n",
              "    <tr>\n",
              "      <th>129052</th>\n",
              "      <td>1424778553395</td>\n",
              "      <td>92263861839000</td>\n",
              "      <td>1.379043</td>\n",
              "      <td>0.000000</td>\n",
              "      <td>9.959755</td>\n",
              "      <td>i</td>\n",
              "      <td>samsungold</td>\n",
              "      <td>samsungold_2</td>\n",
              "      <td>bike</td>\n",
              "    </tr>\n",
              "  </tbody>\n",
              "</table>\n",
              "</div>\n",
              "      <button class=\"colab-df-convert\" onclick=\"convertToInteractive('df-d6955f2b-2a1a-4654-886b-dbabe2131965')\"\n",
              "              title=\"Convert this dataframe to an interactive table.\"\n",
              "              style=\"display:none;\">\n",
              "        \n",
              "  <svg xmlns=\"http://www.w3.org/2000/svg\" height=\"24px\"viewBox=\"0 0 24 24\"\n",
              "       width=\"24px\">\n",
              "    <path d=\"M0 0h24v24H0V0z\" fill=\"none\"/>\n",
              "    <path d=\"M18.56 5.44l.94 2.06.94-2.06 2.06-.94-2.06-.94-.94-2.06-.94 2.06-2.06.94zm-11 1L8.5 8.5l.94-2.06 2.06-.94-2.06-.94L8.5 2.5l-.94 2.06-2.06.94zm10 10l.94 2.06.94-2.06 2.06-.94-2.06-.94-.94-2.06-.94 2.06-2.06.94z\"/><path d=\"M17.41 7.96l-1.37-1.37c-.4-.4-.92-.59-1.43-.59-.52 0-1.04.2-1.43.59L10.3 9.45l-7.72 7.72c-.78.78-.78 2.05 0 2.83L4 21.41c.39.39.9.59 1.41.59.51 0 1.02-.2 1.41-.59l7.78-7.78 2.81-2.81c.8-.78.8-2.07 0-2.86zM5.41 20L4 18.59l7.72-7.72 1.47 1.35L5.41 20z\"/>\n",
              "  </svg>\n",
              "      </button>\n",
              "      \n",
              "  <style>\n",
              "    .colab-df-container {\n",
              "      display:flex;\n",
              "      flex-wrap:wrap;\n",
              "      gap: 12px;\n",
              "    }\n",
              "\n",
              "    .colab-df-convert {\n",
              "      background-color: #E8F0FE;\n",
              "      border: none;\n",
              "      border-radius: 50%;\n",
              "      cursor: pointer;\n",
              "      display: none;\n",
              "      fill: #1967D2;\n",
              "      height: 32px;\n",
              "      padding: 0 0 0 0;\n",
              "      width: 32px;\n",
              "    }\n",
              "\n",
              "    .colab-df-convert:hover {\n",
              "      background-color: #E2EBFA;\n",
              "      box-shadow: 0px 1px 2px rgba(60, 64, 67, 0.3), 0px 1px 3px 1px rgba(60, 64, 67, 0.15);\n",
              "      fill: #174EA6;\n",
              "    }\n",
              "\n",
              "    [theme=dark] .colab-df-convert {\n",
              "      background-color: #3B4455;\n",
              "      fill: #D2E3FC;\n",
              "    }\n",
              "\n",
              "    [theme=dark] .colab-df-convert:hover {\n",
              "      background-color: #434B5C;\n",
              "      box-shadow: 0px 1px 3px 1px rgba(0, 0, 0, 0.15);\n",
              "      filter: drop-shadow(0px 1px 2px rgba(0, 0, 0, 0.3));\n",
              "      fill: #FFFFFF;\n",
              "    }\n",
              "  </style>\n",
              "\n",
              "      <script>\n",
              "        const buttonEl =\n",
              "          document.querySelector('#df-d6955f2b-2a1a-4654-886b-dbabe2131965 button.colab-df-convert');\n",
              "        buttonEl.style.display =\n",
              "          google.colab.kernel.accessAllowed ? 'block' : 'none';\n",
              "\n",
              "        async function convertToInteractive(key) {\n",
              "          const element = document.querySelector('#df-d6955f2b-2a1a-4654-886b-dbabe2131965');\n",
              "          const dataTable =\n",
              "            await google.colab.kernel.invokeFunction('convertToInteractive',\n",
              "                                                     [key], {});\n",
              "          if (!dataTable) return;\n",
              "\n",
              "          const docLinkHtml = 'Like what you see? Visit the ' +\n",
              "            '<a target=\"_blank\" href=https://colab.research.google.com/notebooks/data_table.ipynb>data table notebook</a>'\n",
              "            + ' to learn more about interactive tables.';\n",
              "          element.innerHTML = '';\n",
              "          dataTable['output_type'] = 'display_data';\n",
              "          await google.colab.output.renderOutput(dataTable, element);\n",
              "          const docLink = document.createElement('div');\n",
              "          docLink.innerHTML = docLinkHtml;\n",
              "          element.appendChild(docLink);\n",
              "        }\n",
              "      </script>\n",
              "    </div>\n",
              "  </div>\n",
              "  "
            ]
          },
          "metadata": {},
          "execution_count": 4
        }
      ]
    },
    {
      "cell_type": "code",
      "source": [
        "#gt contains nan values so we impute them with 'no_task'\n",
        "paccel['gt'] = paccel['gt'].fillna('no_task')\n",
        "\n",
        "#Let every user/model/device/gt be called a trial. We give each trial a unique id.\n",
        "paccel['trial'] = paccel[['User','Model','Device','gt']].astype(str).sum(axis=1)\n",
        "paccel['id'] = pd.Categorical(paccel['trial']).codes\n",
        "print(f'Number of unique trials: {paccel.id.max()+1}')"
      ],
      "metadata": {
        "colab": {
          "base_uri": "https://localhost:8080/"
        },
        "id": "kI0uaLrC4uxV",
        "outputId": "a7676086-18a4-4a03-f5c2-4679149d5be6"
      },
      "execution_count": null,
      "outputs": [
        {
          "output_type": "stream",
          "name": "stdout",
          "text": [
            "Number of unique trials: 485\n"
          ]
        }
      ]
    },
    {
      "cell_type": "code",
      "source": [
        "#Plot histograms\n",
        "def hist_xyz(df, trial_id, corr=False):\n",
        "  '''\n",
        "  Consumes a dataframe and id of a trial and plots histograms of xyz axes.\n",
        "  If corr is true, then it will print out the dimension-wise pearson correlation\n",
        "  matrix.\n",
        "  '''\n",
        "\n",
        "  data = df.loc[df.id == trial_id]\n",
        "  title = data['gt'].mode()\n",
        "  dim_list = ['xmm','ymm','zmm']\n",
        "\n",
        "  fig, axs = pl.subplots(1, 3, figsize=(12,8))\n",
        "\n",
        "  for d in range(0,3):\n",
        "    axs[d].hist(data[dim_list[d]],#(data[dim_list[d]] - data[dim_list[d]].mean()) / data[dim_list[d]].std(),\n",
        "                log=True)\n",
        "    axs[d].set_title(f'{dim_list[d]}_axis')\n",
        "\n",
        "  fig.suptitle(f'Task: {title[0]}', y=.97);\n",
        "\n",
        "  if corr:\n",
        "    print(data[dim_list].corr())"
      ],
      "metadata": {
        "id": "qHCS2V8o4yXK"
      },
      "execution_count": null,
      "outputs": []
    },
    {
      "cell_type": "code",
      "source": [
        "hist_xyz(paccel, 12,True)"
      ],
      "metadata": {
        "colab": {
          "base_uri": "https://localhost:8080/",
          "height": 604
        },
        "id": "2l0vpOMq5vbq",
        "outputId": "3e8efdb1-0847-40d2-d813-3a121eac0a2e"
      },
      "execution_count": null,
      "outputs": [
        {
          "output_type": "stream",
          "name": "stdout",
          "text": [
            "          xmm       ymm       zmm\n",
            "xmm  1.000000 -0.070978  0.845381\n",
            "ymm -0.070978  1.000000 -0.320840\n",
            "zmm  0.845381 -0.320840  1.000000\n"
          ]
        },
        {
          "output_type": "display_data",
          "data": {
            "text/plain": [
              "<Figure size 864x576 with 3 Axes>"
            ],
            "image/png": "[encoded data removed]"
          },
          "metadata": {
            "needs_background": "light"
          }
        }
      ]
    },
    {
      "cell_type": "code",
      "source": [
        "hist_xyz(paccel, 10, True)"
      ],
      "metadata": {
        "colab": {
          "base_uri": "https://localhost:8080/",
          "height": 604
        },
        "id": "DUyBgAcR6WYc",
        "outputId": "0570ea51-6edb-4173-bf7c-bf2f92035cd2"
      },
      "execution_count": null,
      "outputs": [
        {
          "output_type": "stream",
          "name": "stdout",
          "text": [
            "          xmm       ymm       zmm\n",
            "xmm  1.000000 -0.155353 -0.616389\n",
            "ymm -0.155353  1.000000  0.021959\n",
            "zmm -0.616389  0.021959  1.000000\n"
          ]
        },
        {
          "output_type": "display_data",
          "data": {
            "text/plain": [
              "<Figure size 864x576 with 3 Axes>"
            ],
            "image/png": "[encoded data removed]"
          },
          "metadata": {
            "needs_background": "light"
          }
        }
      ]
    },
    {
      "cell_type": "code",
      "source": [
        "hist_xyz(paccel, 478, True)"
      ],
      "metadata": {
        "colab": {
          "base_uri": "https://localhost:8080/",
          "height": 604
        },
        "id": "AXbUgk8v6fm4",
        "outputId": "26cd3e93-48fa-4dcd-f140-591ccf7f2072"
      },
      "execution_count": null,
      "outputs": [
        {
          "output_type": "stream",
          "name": "stdout",
          "text": [
            "          xmm       ymm       zmm\n",
            "xmm  1.000000 -0.178339 -0.139328\n",
            "ymm -0.178339  1.000000 -0.023400\n",
            "zmm -0.139328 -0.023400  1.000000\n"
          ]
        },
        {
          "output_type": "display_data",
          "data": {
            "text/plain": [
              "<Figure size 864x576 with 3 Axes>"
            ],
            "image/png": "[encoded data removed]"
          },
          "metadata": {
            "needs_background": "light"
          }
        }
      ]
    },
    {
      "cell_type": "code",
      "source": [
        "paccel[[\"x\", \"y\", \"z\"]].min(axis = 1)"
      ],
      "metadata": {
        "colab": {
          "base_uri": "https://localhost:8080/"
        },
        "id": "R0QIWOM9LXux",
        "outputId": "658d458e-35fd-4bc5-ae5d-d6420370c8e9"
      },
      "execution_count": null,
      "outputs": [
        {
          "output_type": "execute_result",
          "data": {
            "text/plain": [
              "Index\n",
              "0        -5.958191\n",
              "1        -5.952240\n",
              "2        -5.995087\n",
              "3        -5.942718\n",
              "4        -5.991516\n",
              "            ...   \n",
              "129048    0.153227\n",
              "129049    0.153227\n",
              "129050    0.153227\n",
              "129051    0.000000\n",
              "129052    0.000000\n",
              "Length: 13062475, dtype: float64"
            ]
          },
          "metadata": {},
          "execution_count": 32
        }
      ]
    },
    {
      "cell_type": "code",
      "source": [
        "paccel.groupby('id').min()[[\"x\"]].hist()"
      ],
      "metadata": {
        "colab": {
          "base_uri": "https://localhost:8080/",
          "height": 316
        },
        "id": "1UZmFq24LcTV",
        "outputId": "8ab5d42d-64b9-4d09-eb13-8b305b7b6345"
      },
      "execution_count": null,
      "outputs": [
        {
          "output_type": "execute_result",
          "data": {
            "text/plain": [
              "array([[<matplotlib.axes._subplots.AxesSubplot object at 0x7f6fbb413910>]],\n",
              "      dtype=object)"
            ]
          },
          "metadata": {},
          "execution_count": 37
        },
        {
          "output_type": "display_data",
          "data": {
            "text/plain": [
              "<Figure size 432x288 with 1 Axes>"
            ],
            "image/png": "[encoded data removed]"
          },
          "metadata": {
            "needs_background": "light"
          }
        }
      ]
    },
    {
      "cell_type": "code",
      "source": [
        "paccel.groupby('id').min()[[\"y\"]].hist()"
      ],
      "metadata": {
        "colab": {
          "base_uri": "https://localhost:8080/",
          "height": 316
        },
        "id": "TiKt2YE1M3sf",
        "outputId": "70cd7c1a-d1d7-43f9-957e-5e4cb018b920"
      },
      "execution_count": null,
      "outputs": [
        {
          "output_type": "execute_result",
          "data": {
            "text/plain": [
              "array([[<matplotlib.axes._subplots.AxesSubplot object at 0x7f6fba534610>]],\n",
              "      dtype=object)"
            ]
          },
          "metadata": {},
          "execution_count": 38
        },
        {
          "output_type": "display_data",
          "data": {
            "text/plain": [
              "<Figure size 432x288 with 1 Axes>"
            ],
            "image/png": "[encoded data removed]"
          },
          "metadata": {
            "needs_background": "light"
          }
        }
      ]
    },
    {
      "cell_type": "code",
      "source": [
        "paccel.groupby('id').min()[[\"z\"]].hist()"
      ],
      "metadata": {
        "colab": {
          "base_uri": "https://localhost:8080/",
          "height": 316
        },
        "id": "w1Ix1DmENMK4",
        "outputId": "048ede87-29f4-46a6-c692-d0667502411b"
      },
      "execution_count": null,
      "outputs": [
        {
          "output_type": "execute_result",
          "data": {
            "text/plain": [
              "array([[<matplotlib.axes._subplots.AxesSubplot object at 0x7f6fba45d050>]],\n",
              "      dtype=object)"
            ]
          },
          "metadata": {},
          "execution_count": 39
        },
        {
          "output_type": "display_data",
          "data": {
            "text/plain": [
              "<Figure size 432x288 with 1 Axes>"
            ],
            "image/png": "[encoded data removed]"
          },
          "metadata": {
            "needs_background": "light"
          }
        }
      ]
    },
    {
      "cell_type": "code",
      "source": [
        "paccel.groupby(\"id\").count()"
      ],
      "metadata": {
        "colab": {
          "base_uri": "https://localhost:8080/",
          "height": 455
        },
        "id": "PEwjw_Y1NMzf",
        "outputId": "1128a9ce-da59-458e-85cf-8b75d8d140d3"
      },
      "execution_count": null,
      "outputs": [
        {
          "output_type": "execute_result",
          "data": {
            "text/plain": [
              "     Arrival_Time  Creation_Time      x      y      z   User  Model  Device  \\\n",
              "id                                                                            \n",
              "0           36676          36676  36676  36676  36676  36676  36676   36676   \n",
              "1           32917          32917  32917  32917  32917  32917  32917   32917   \n",
              "2           59954          59954  59954  59954  59954  59954  59954   59954   \n",
              "3           44990          44990  44990  44990  44990  44990  44990   44990   \n",
              "4           43174          43174  43174  43174  43174  43174  43174   43174   \n",
              "..            ...            ...    ...    ...    ...    ...    ...     ...   \n",
              "480         13216          13216  13216  13216  13216  13216  13216   13216   \n",
              "481         19086          19086  19086  19086  19086  19086  19086   19086   \n",
              "482         19750          19750  19750  19750  19750  19750  19750   19750   \n",
              "483         14791          14791  14791  14791  14791  14791  14791   14791   \n",
              "484         20105          20105  20105  20105  20105  20105  20105   20105   \n",
              "\n",
              "        gt  trial  \n",
              "id                 \n",
              "0    36676  36676  \n",
              "1    32917  32917  \n",
              "2    59954  59954  \n",
              "3    44990  44990  \n",
              "4    43174  43174  \n",
              "..     ...    ...  \n",
              "480  13216  13216  \n",
              "481  19086  19086  \n",
              "482  19750  19750  \n",
              "483  14791  14791  \n",
              "484  20105  20105  \n",
              "\n",
              "[485 rows x 10 columns]"
            ],
            "text/html": [
              "\n",
              "  <div id=\"df-837a17a7-dd81-4a30-8a53-e130e07fb748\">\n",
              "    <div class=\"colab-df-container\">\n",
              "      <div>\n",
              "<style scoped>\n",
              "    .dataframe tbody tr th:only-of-type {\n",
              "        vertical-align: middle;\n",
              "    }\n",
              "\n",
              "    .dataframe tbody tr th {\n",
              "        vertical-align: top;\n",
              "    }\n",
              "\n",
              "    .dataframe thead th {\n",
              "        text-align: right;\n",
              "    }\n",
              "</style>\n",
              "<table border=\"1\" class=\"dataframe\">\n",
              "  <thead>\n",
              "    <tr style=\"text-align: right;\">\n",
              "      <th></th>\n",
              "      <th>Arrival_Time</th>\n",
              "      <th>Creation_Time</th>\n",
              "      <th>x</th>\n",
              "      <th>y</th>\n",
              "      <th>z</th>\n",
              "      <th>User</th>\n",
              "      <th>Model</th>\n",
              "      <th>Device</th>\n",
              "      <th>gt</th>\n",
              "      <th>trial</th>\n",
              "    </tr>\n",
              "    <tr>\n",
              "      <th>id</th>\n",
              "      <th></th>\n",
              "      <th></th>\n",
              "      <th></th>\n",
              "      <th></th>\n",
              "      <th></th>\n",
              "      <th></th>\n",
              "      <th></th>\n",
              "      <th></th>\n",
              "      <th></th>\n",
              "      <th></th>\n",
              "    </tr>\n",
              "  </thead>\n",
              "  <tbody>\n",
              "    <tr>\n",
              "      <th>0</th>\n",
              "      <td>36676</td>\n",
              "      <td>36676</td>\n",
              "      <td>36676</td>\n",
              "      <td>36676</td>\n",
              "      <td>36676</td>\n",
              "      <td>36676</td>\n",
              "      <td>36676</td>\n",
              "      <td>36676</td>\n",
              "      <td>36676</td>\n",
              "      <td>36676</td>\n",
              "    </tr>\n",
              "    <tr>\n",
              "      <th>1</th>\n",
              "      <td>32917</td>\n",
              "      <td>32917</td>\n",
              "      <td>32917</td>\n",
              "      <td>32917</td>\n",
              "      <td>32917</td>\n",
              "      <td>32917</td>\n",
              "      <td>32917</td>\n",
              "      <td>32917</td>\n",
              "      <td>32917</td>\n",
              "      <td>32917</td>\n",
              "    </tr>\n",
              "    <tr>\n",
              "      <th>2</th>\n",
              "      <td>59954</td>\n",
              "      <td>59954</td>\n",
              "      <td>59954</td>\n",
              "      <td>59954</td>\n",
              "      <td>59954</td>\n",
              "      <td>59954</td>\n",
              "      <td>59954</td>\n",
              "      <td>59954</td>\n",
              "      <td>59954</td>\n",
              "      <td>59954</td>\n",
              "    </tr>\n",
              "    <tr>\n",
              "      <th>3</th>\n",
              "      <td>44990</td>\n",
              "      <td>44990</td>\n",
              "      <td>44990</td>\n",
              "      <td>44990</td>\n",
              "      <td>44990</td>\n",
              "      <td>44990</td>\n",
              "      <td>44990</td>\n",
              "      <td>44990</td>\n",
              "      <td>44990</td>\n",
              "      <td>44990</td>\n",
              "    </tr>\n",
              "    <tr>\n",
              "      <th>4</th>\n",
              "      <td>43174</td>\n",
              "      <td>43174</td>\n",
              "      <td>43174</td>\n",
              "      <td>43174</td>\n",
              "      <td>43174</td>\n",
              "      <td>43174</td>\n",
              "      <td>43174</td>\n",
              "      <td>43174</td>\n",
              "      <td>43174</td>\n",
              "      <td>43174</td>\n",
              "    </tr>\n",
              "    <tr>\n",
              "      <th>...</th>\n",
              "      <td>...</td>\n",
              "      <td>...</td>\n",
              "      <td>...</td>\n",
              "      <td>...</td>\n",
              "      <td>...</td>\n",
              "      <td>...</td>\n",
              "      <td>...</td>\n",
              "      <td>...</td>\n",
              "      <td>...</td>\n",
              "      <td>...</td>\n",
              "    </tr>\n",
              "    <tr>\n",
              "      <th>480</th>\n",
              "      <td>13216</td>\n",
              "      <td>13216</td>\n",
              "      <td>13216</td>\n",
              "      <td>13216</td>\n",
              "      <td>13216</td>\n",
              "      <td>13216</td>\n",
              "      <td>13216</td>\n",
              "      <td>13216</td>\n",
              "      <td>13216</td>\n",
              "      <td>13216</td>\n",
              "    </tr>\n",
              "    <tr>\n",
              "      <th>481</th>\n",
              "      <td>19086</td>\n",
              "      <td>19086</td>\n",
              "      <td>19086</td>\n",
              "      <td>19086</td>\n",
              "      <td>19086</td>\n",
              "      <td>19086</td>\n",
              "      <td>19086</td>\n",
              "      <td>19086</td>\n",
              "      <td>19086</td>\n",
              "      <td>19086</td>\n",
              "    </tr>\n",
              "    <tr>\n",
              "      <th>482</th>\n",
              "      <td>19750</td>\n",
              "      <td>19750</td>\n",
              "      <td>19750</td>\n",
              "      <td>19750</td>\n",
              "      <td>19750</td>\n",
              "      <td>19750</td>\n",
              "      <td>19750</td>\n",
              "      <td>19750</td>\n",
              "      <td>19750</td>\n",
              "      <td>19750</td>\n",
              "    </tr>\n",
              "    <tr>\n",
              "      <th>483</th>\n",
              "      <td>14791</td>\n",
              "      <td>14791</td>\n",
              "      <td>14791</td>\n",
              "      <td>14791</td>\n",
              "      <td>14791</td>\n",
              "      <td>14791</td>\n",
              "      <td>14791</td>\n",
              "      <td>14791</td>\n",
              "      <td>14791</td>\n",
              "      <td>14791</td>\n",
              "    </tr>\n",
              "    <tr>\n",
              "      <th>484</th>\n",
              "      <td>20105</td>\n",
              "      <td>20105</td>\n",
              "      <td>20105</td>\n",
              "      <td>20105</td>\n",
              "      <td>20105</td>\n",
              "      <td>20105</td>\n",
              "      <td>20105</td>\n",
              "      <td>20105</td>\n",
              "      <td>20105</td>\n",
              "      <td>20105</td>\n",
              "    </tr>\n",
              "  </tbody>\n",
              "</table>\n",
              "<p>485 rows × 10 columns</p>\n",
              "</div>\n",
              "      <button class=\"colab-df-convert\" onclick=\"convertToInteractive('df-837a17a7-dd81-4a30-8a53-e130e07fb748')\"\n",
              "              title=\"Convert this dataframe to an interactive table.\"\n",
              "              style=\"display:none;\">\n",
              "        \n",
              "  <svg xmlns=\"http://www.w3.org/2000/svg\" height=\"24px\"viewBox=\"0 0 24 24\"\n",
              "       width=\"24px\">\n",
              "    <path d=\"M0 0h24v24H0V0z\" fill=\"none\"/>\n",
              "    <path d=\"M18.56 5.44l.94 2.06.94-2.06 2.06-.94-2.06-.94-.94-2.06-.94 2.06-2.06.94zm-11 1L8.5 8.5l.94-2.06 2.06-.94-2.06-.94L8.5 2.5l-.94 2.06-2.06.94zm10 10l.94 2.06.94-2.06 2.06-.94-2.06-.94-.94-2.06-.94 2.06-2.06.94z\"/><path d=\"M17.41 7.96l-1.37-1.37c-.4-.4-.92-.59-1.43-.59-.52 0-1.04.2-1.43.59L10.3 9.45l-7.72 7.72c-.78.78-.78 2.05 0 2.83L4 21.41c.39.39.9.59 1.41.59.51 0 1.02-.2 1.41-.59l7.78-7.78 2.81-2.81c.8-.78.8-2.07 0-2.86zM5.41 20L4 18.59l7.72-7.72 1.47 1.35L5.41 20z\"/>\n",
              "  </svg>\n",
              "      </button>\n",
              "      \n",
              "  <style>\n",
              "    .colab-df-container {\n",
              "      display:flex;\n",
              "      flex-wrap:wrap;\n",
              "      gap: 12px;\n",
              "    }\n",
              "\n",
              "    .colab-df-convert {\n",
              "      background-color: #E8F0FE;\n",
              "      border: none;\n",
              "      border-radius: 50%;\n",
              "      cursor: pointer;\n",
              "      display: none;\n",
              "      fill: #1967D2;\n",
              "      height: 32px;\n",
              "      padding: 0 0 0 0;\n",
              "      width: 32px;\n",
              "    }\n",
              "\n",
              "    .colab-df-convert:hover {\n",
              "      background-color: #E2EBFA;\n",
              "      box-shadow: 0px 1px 2px rgba(60, 64, 67, 0.3), 0px 1px 3px 1px rgba(60, 64, 67, 0.15);\n",
              "      fill: #174EA6;\n",
              "    }\n",
              "\n",
              "    [theme=dark] .colab-df-convert {\n",
              "      background-color: #3B4455;\n",
              "      fill: #D2E3FC;\n",
              "    }\n",
              "\n",
              "    [theme=dark] .colab-df-convert:hover {\n",
              "      background-color: #434B5C;\n",
              "      box-shadow: 0px 1px 3px 1px rgba(0, 0, 0, 0.15);\n",
              "      filter: drop-shadow(0px 1px 2px rgba(0, 0, 0, 0.3));\n",
              "      fill: #FFFFFF;\n",
              "    }\n",
              "  </style>\n",
              "\n",
              "      <script>\n",
              "        const buttonEl =\n",
              "          document.querySelector('#df-837a17a7-dd81-4a30-8a53-e130e07fb748 button.colab-df-convert');\n",
              "        buttonEl.style.display =\n",
              "          google.colab.kernel.accessAllowed ? 'block' : 'none';\n",
              "\n",
              "        async function convertToInteractive(key) {\n",
              "          const element = document.querySelector('#df-837a17a7-dd81-4a30-8a53-e130e07fb748');\n",
              "          const dataTable =\n",
              "            await google.colab.kernel.invokeFunction('convertToInteractive',\n",
              "                                                     [key], {});\n",
              "          if (!dataTable) return;\n",
              "\n",
              "          const docLinkHtml = 'Like what you see? Visit the ' +\n",
              "            '<a target=\"_blank\" href=https://colab.research.google.com/notebooks/data_table.ipynb>data table notebook</a>'\n",
              "            + ' to learn more about interactive tables.';\n",
              "          element.innerHTML = '';\n",
              "          dataTable['output_type'] = 'display_data';\n",
              "          await google.colab.output.renderOutput(dataTable, element);\n",
              "          const docLink = document.createElement('div');\n",
              "          docLink.innerHTML = docLinkHtml;\n",
              "          element.appendChild(docLink);\n",
              "        }\n",
              "      </script>\n",
              "    </div>\n",
              "  </div>\n",
              "  "
            ]
          },
          "metadata": {},
          "execution_count": 40
        }
      ]
    },
    {
      "cell_type": "code",
      "source": [
        "df_ = paccel[[\"x\", \"y\", \"z\"]]"
      ],
      "metadata": {
        "id": "ArVcZtliOAYB"
      },
      "execution_count": null,
      "outputs": []
    },
    {
      "cell_type": "code",
      "source": [
        "df_.clip(-20, 20, inplace=True)"
      ],
      "metadata": {
        "colab": {
          "base_uri": "https://localhost:8080/"
        },
        "id": "2sQau52aOoya",
        "outputId": "cfa132e0-3f16-49ae-ed56-7fcb7fa34c26"
      },
      "execution_count": null,
      "outputs": [
        {
          "output_type": "stream",
          "name": "stderr",
          "text": [
            "/usr/local/lib/python3.7/dist-packages/pandas/core/generic.py:7430: SettingWithCopyWarning: \n",
            "A value is trying to be set on a copy of a slice from a DataFrame\n",
            "\n",
            "See the caveats in the documentation: https://pandas.pydata.org/pandas-docs/stable/user_guide/indexing.html#returning-a-view-versus-a-copy\n",
            "  return self._clip_with_scalar(lower, upper, inplace=inplace)\n"
          ]
        }
      ]
    },
    {
      "cell_type": "code",
      "source": [
        "df_ = (df_ + 20 ) / 40"
      ],
      "metadata": {
        "id": "mJnfFddpOxPc"
      },
      "execution_count": null,
      "outputs": []
    },
    {
      "cell_type": "code",
      "source": [
        "paccel[\"xmm\"] = df_[\"x\"]\n",
        "paccel[\"ymm\"] = df_[\"y\"]\n",
        "paccel[\"zmm\"] = df_[\"z\"]"
      ],
      "metadata": {
        "id": "I0zatPtyPCkD"
      },
      "execution_count": null,
      "outputs": []
    },
    {
      "cell_type": "markdown",
      "source": [
        "# ECDF Visualization"
      ],
      "metadata": {
        "id": "L04XtAngrHJg"
      }
    },
    {
      "cell_type": "code",
      "source": [
        "x = paccel['x'].loc[paccel.id == 0]\n",
        "xs = np.sort(x)\n",
        "F = ecdf(xs)"
      ],
      "metadata": {
        "id": "rMg2xMhnPDhb"
      },
      "execution_count": null,
      "outputs": []
    },
    {
      "cell_type": "code",
      "source": [
        "bins = np.linspace(0, 1, 11)\n",
        "\n",
        "pl.figure(figsize=(12,8))\n",
        "pl.plot(xs, F(xs))\n",
        "pl.hlines(bins,-10, xs[np.searchsorted(F(xs), bins)], ls='--', alpha=.6)\n",
        "pl.vlines(xs[np.searchsorted(F(xs), bins)], -.1, bins, ls='--', alpha=.6, color='red')\n",
        "pl.xlabel('X', fontsize=14)\n",
        "pl.ylabel('P(X <= x)', fontsize=14, labelpad=20)\n",
        "pl.title('ECDF (bins=10)', fontsize=18);"
      ],
      "metadata": {
        "colab": {
          "base_uri": "https://localhost:8080/",
          "height": 521
        },
        "id": "UGo_0-IhrcQJ",
        "outputId": "2e4e44a7-fe45-406d-c8e6-a4981037b542"
      },
      "execution_count": null,
      "outputs": [
        {
          "output_type": "display_data",
          "data": {
            "text/plain": [
              "<Figure size 864x576 with 1 Axes>"
            ],
            "image/png": "[encoded data removed]"
          },
          "metadata": {
            "needs_background": "light"
          }
        }
      ]
    },
    {
      "cell_type": "code",
      "source": [
        "pl.plot(x.values)\n",
        "pl.xticks([])\n",
        "pl.xlabel('t')\n",
        "pl.ylabel('x')\n",
        "pl.title('Accelerometer Reading (X axis)');"
      ],
      "metadata": {
        "colab": {
          "base_uri": "https://localhost:8080/",
          "height": 278
        },
        "id": "-z5Nky5ysn94",
        "outputId": "95491345-2949-46ab-cb39-ffa3999a79a1"
      },
      "execution_count": null,
      "outputs": [
        {
          "output_type": "display_data",
          "data": {
            "text/plain": [
              "<Figure size 432x288 with 1 Axes>"
            ],
            "image/png": "[encoded data removed]"
          },
          "metadata": {
            "needs_background": "light"
          }
        }
      ]
    },
    {
      "cell_type": "code",
      "source": [
        "ecdf = pd.read_csv('/content/gdrive/MyDrive/3. MSDS Courses/Machine Learning Time Series/MLTSA22 Project/Data/ECDF_Cartesian.csv')"
      ],
      "metadata": {
        "id": "c-A_FBO6tcl2"
      },
      "execution_count": null,
      "outputs": []
    },
    {
      "cell_type": "code",
      "source": [
        "search = paccel.groupby('id').first().reset_index()"
      ],
      "metadata": {
        "id": "Cz--zygb3LWJ"
      },
      "execution_count": null,
      "outputs": []
    },
    {
      "cell_type": "code",
      "source": [
        "search"
      ],
      "metadata": {
        "colab": {
          "base_uri": "https://localhost:8080/",
          "height": 424
        },
        "id": "f-MPAXhA3h6x",
        "outputId": "de9b441e-02c8-4035-de7b-2223e12afcba"
      },
      "execution_count": null,
      "outputs": [
        {
          "output_type": "execute_result",
          "data": {
            "text/plain": [
              "      id   Arrival_Time        Creation_Time         x         y          z  \\\n",
              "0      0  1424698217675  1424698215675995642 -7.291199  2.341232   6.313171   \n",
              "1      1  1424696936998  1424696935005288835 -6.166473  0.081070   7.977051   \n",
              "2      2  1424696945006  1424696943017983841 -0.448822 -0.096268  10.301483   \n",
              "3      3  1424697674436  1424697672392981833 -5.995087  2.561417   9.113678   \n",
              "4      4  1424697665003  1424697663324714604 -4.332397 -0.190292   6.814240   \n",
              "..   ...            ...                  ...       ...       ...        ...   \n",
              "480  480  1424776683406       90393872154000  4.903264  0.306454   8.733939   \n",
              "481  481  1424777465975       91176442283000 -1.379043 -1.379043   9.653301   \n",
              "482  482  1424777413924       91124391533000 -0.919362 -0.612908   9.806528   \n",
              "483  483  1424776359595       90070062339000 -0.612908 -0.306454   9.806528   \n",
              "484  484  1424777063716       90774182396000 -1.838724 -0.612908  10.725890   \n",
              "\n",
              "    User       Model        Device          gt  \\\n",
              "0      a      nexus4      nexus4_1        bike   \n",
              "1      a      nexus4      nexus4_1     no_task   \n",
              "2      a      nexus4      nexus4_1         sit   \n",
              "3      a      nexus4      nexus4_1  stairsdown   \n",
              "4      a      nexus4      nexus4_1    stairsup   \n",
              "..   ...         ...           ...         ...   \n",
              "480    i  samsungold  samsungold_2         sit   \n",
              "481    i  samsungold  samsungold_2  stairsdown   \n",
              "482    i  samsungold  samsungold_2    stairsup   \n",
              "483    i  samsungold  samsungold_2       stand   \n",
              "484    i  samsungold  samsungold_2        walk   \n",
              "\n",
              "                                 trial  \n",
              "0                  anexus4nexus4_1bike  \n",
              "1               anexus4nexus4_1no_task  \n",
              "2                   anexus4nexus4_1sit  \n",
              "3            anexus4nexus4_1stairsdown  \n",
              "4              anexus4nexus4_1stairsup  \n",
              "..                                 ...  \n",
              "480         isamsungoldsamsungold_2sit  \n",
              "481  isamsungoldsamsungold_2stairsdown  \n",
              "482    isamsungoldsamsungold_2stairsup  \n",
              "483       isamsungoldsamsungold_2stand  \n",
              "484        isamsungoldsamsungold_2walk  \n",
              "\n",
              "[485 rows x 11 columns]"
            ],
            "text/html": [
              "\n",
              "  <div id=\"df-2309fd08-68cd-4fde-8e51-732b17838bf7\">\n",
              "    <div class=\"colab-df-container\">\n",
              "      <div>\n",
              "<style scoped>\n",
              "    .dataframe tbody tr th:only-of-type {\n",
              "        vertical-align: middle;\n",
              "    }\n",
              "\n",
              "    .dataframe tbody tr th {\n",
              "        vertical-align: top;\n",
              "    }\n",
              "\n",
              "    .dataframe thead th {\n",
              "        text-align: right;\n",
              "    }\n",
              "</style>\n",
              "<table border=\"1\" class=\"dataframe\">\n",
              "  <thead>\n",
              "    <tr style=\"text-align: right;\">\n",
              "      <th></th>\n",
              "      <th>id</th>\n",
              "      <th>Arrival_Time</th>\n",
              "      <th>Creation_Time</th>\n",
              "      <th>x</th>\n",
              "      <th>y</th>\n",
              "      <th>z</th>\n",
              "      <th>User</th>\n",
              "      <th>Model</th>\n",
              "      <th>Device</th>\n",
              "      <th>gt</th>\n",
              "      <th>trial</th>\n",
              "    </tr>\n",
              "  </thead>\n",
              "  <tbody>\n",
              "    <tr>\n",
              "      <th>0</th>\n",
              "      <td>0</td>\n",
              "      <td>1424698217675</td>\n",
              "      <td>1424698215675995642</td>\n",
              "      <td>-7.291199</td>\n",
              "      <td>2.341232</td>\n",
              "      <td>6.313171</td>\n",
              "      <td>a</td>\n",
              "      <td>nexus4</td>\n",
              "      <td>nexus4_1</td>\n",
              "      <td>bike</td>\n",
              "      <td>anexus4nexus4_1bike</td>\n",
              "    </tr>\n",
              "    <tr>\n",
              "      <th>1</th>\n",
              "      <td>1</td>\n",
              "      <td>1424696936998</td>\n",
              "      <td>1424696935005288835</td>\n",
              "      <td>-6.166473</td>\n",
              "      <td>0.081070</td>\n",
              "      <td>7.977051</td>\n",
              "      <td>a</td>\n",
              "      <td>nexus4</td>\n",
              "      <td>nexus4_1</td>\n",
              "      <td>no_task</td>\n",
              "      <td>anexus4nexus4_1no_task</td>\n",
              "    </tr>\n",
              "    <tr>\n",
              "      <th>2</th>\n",
              "      <td>2</td>\n",
              "      <td>1424696945006</td>\n",
              "      <td>1424696943017983841</td>\n",
              "      <td>-0.448822</td>\n",
              "      <td>-0.096268</td>\n",
              "      <td>10.301483</td>\n",
              "      <td>a</td>\n",
              "      <td>nexus4</td>\n",
              "      <td>nexus4_1</td>\n",
              "      <td>sit</td>\n",
              "      <td>anexus4nexus4_1sit</td>\n",
              "    </tr>\n",
              "    <tr>\n",
              "      <th>3</th>\n",
              "      <td>3</td>\n",
              "      <td>1424697674436</td>\n",
              "      <td>1424697672392981833</td>\n",
              "      <td>-5.995087</td>\n",
              "      <td>2.561417</td>\n",
              "      <td>9.113678</td>\n",
              "      <td>a</td>\n",
              "      <td>nexus4</td>\n",
              "      <td>nexus4_1</td>\n",
              "      <td>stairsdown</td>\n",
              "      <td>anexus4nexus4_1stairsdown</td>\n",
              "    </tr>\n",
              "    <tr>\n",
              "      <th>4</th>\n",
              "      <td>4</td>\n",
              "      <td>1424697665003</td>\n",
              "      <td>1424697663324714604</td>\n",
              "      <td>-4.332397</td>\n",
              "      <td>-0.190292</td>\n",
              "      <td>6.814240</td>\n",
              "      <td>a</td>\n",
              "      <td>nexus4</td>\n",
              "      <td>nexus4_1</td>\n",
              "      <td>stairsup</td>\n",
              "      <td>anexus4nexus4_1stairsup</td>\n",
              "    </tr>\n",
              "    <tr>\n",
              "      <th>...</th>\n",
              "      <td>...</td>\n",
              "      <td>...</td>\n",
              "      <td>...</td>\n",
              "      <td>...</td>\n",
              "      <td>...</td>\n",
              "      <td>...</td>\n",
              "      <td>...</td>\n",
              "      <td>...</td>\n",
              "      <td>...</td>\n",
              "      <td>...</td>\n",
              "      <td>...</td>\n",
              "    </tr>\n",
              "    <tr>\n",
              "      <th>480</th>\n",
              "      <td>480</td>\n",
              "      <td>1424776683406</td>\n",
              "      <td>90393872154000</td>\n",
              "      <td>4.903264</td>\n",
              "      <td>0.306454</td>\n",
              "      <td>8.733939</td>\n",
              "      <td>i</td>\n",
              "      <td>samsungold</td>\n",
              "      <td>samsungold_2</td>\n",
              "      <td>sit</td>\n",
              "      <td>isamsungoldsamsungold_2sit</td>\n",
              "    </tr>\n",
              "    <tr>\n",
              "      <th>481</th>\n",
              "      <td>481</td>\n",
              "      <td>1424777465975</td>\n",
              "      <td>91176442283000</td>\n",
              "      <td>-1.379043</td>\n",
              "      <td>-1.379043</td>\n",
              "      <td>9.653301</td>\n",
              "      <td>i</td>\n",
              "      <td>samsungold</td>\n",
              "      <td>samsungold_2</td>\n",
              "      <td>stairsdown</td>\n",
              "      <td>isamsungoldsamsungold_2stairsdown</td>\n",
              "    </tr>\n",
              "    <tr>\n",
              "      <th>482</th>\n",
              "      <td>482</td>\n",
              "      <td>1424777413924</td>\n",
              "      <td>91124391533000</td>\n",
              "      <td>-0.919362</td>\n",
              "      <td>-0.612908</td>\n",
              "      <td>9.806528</td>\n",
              "      <td>i</td>\n",
              "      <td>samsungold</td>\n",
              "      <td>samsungold_2</td>\n",
              "      <td>stairsup</td>\n",
              "      <td>isamsungoldsamsungold_2stairsup</td>\n",
              "    </tr>\n",
              "    <tr>\n",
              "      <th>483</th>\n",
              "      <td>483</td>\n",
              "      <td>1424776359595</td>\n",
              "      <td>90070062339000</td>\n",
              "      <td>-0.612908</td>\n",
              "      <td>-0.306454</td>\n",
              "      <td>9.806528</td>\n",
              "      <td>i</td>\n",
              "      <td>samsungold</td>\n",
              "      <td>samsungold_2</td>\n",
              "      <td>stand</td>\n",
              "      <td>isamsungoldsamsungold_2stand</td>\n",
              "    </tr>\n",
              "    <tr>\n",
              "      <th>484</th>\n",
              "      <td>484</td>\n",
              "      <td>1424777063716</td>\n",
              "      <td>90774182396000</td>\n",
              "      <td>-1.838724</td>\n",
              "      <td>-0.612908</td>\n",
              "      <td>10.725890</td>\n",
              "      <td>i</td>\n",
              "      <td>samsungold</td>\n",
              "      <td>samsungold_2</td>\n",
              "      <td>walk</td>\n",
              "      <td>isamsungoldsamsungold_2walk</td>\n",
              "    </tr>\n",
              "  </tbody>\n",
              "</table>\n",
              "<p>485 rows × 11 columns</p>\n",
              "</div>\n",
              "      <button class=\"colab-df-convert\" onclick=\"convertToInteractive('df-2309fd08-68cd-4fde-8e51-732b17838bf7')\"\n",
              "              title=\"Convert this dataframe to an interactive table.\"\n",
              "              style=\"display:none;\">\n",
              "        \n",
              "  <svg xmlns=\"http://www.w3.org/2000/svg\" height=\"24px\"viewBox=\"0 0 24 24\"\n",
              "       width=\"24px\">\n",
              "    <path d=\"M0 0h24v24H0V0z\" fill=\"none\"/>\n",
              "    <path d=\"M18.56 5.44l.94 2.06.94-2.06 2.06-.94-2.06-.94-.94-2.06-.94 2.06-2.06.94zm-11 1L8.5 8.5l.94-2.06 2.06-.94-2.06-.94L8.5 2.5l-.94 2.06-2.06.94zm10 10l.94 2.06.94-2.06 2.06-.94-2.06-.94-.94-2.06-.94 2.06-2.06.94z\"/><path d=\"M17.41 7.96l-1.37-1.37c-.4-.4-.92-.59-1.43-.59-.52 0-1.04.2-1.43.59L10.3 9.45l-7.72 7.72c-.78.78-.78 2.05 0 2.83L4 21.41c.39.39.9.59 1.41.59.51 0 1.02-.2 1.41-.59l7.78-7.78 2.81-2.81c.8-.78.8-2.07 0-2.86zM5.41 20L4 18.59l7.72-7.72 1.47 1.35L5.41 20z\"/>\n",
              "  </svg>\n",
              "      </button>\n",
              "      \n",
              "  <style>\n",
              "    .colab-df-container {\n",
              "      display:flex;\n",
              "      flex-wrap:wrap;\n",
              "      gap: 12px;\n",
              "    }\n",
              "\n",
              "    .colab-df-convert {\n",
              "      background-color: #E8F0FE;\n",
              "      border: none;\n",
              "      border-radius: 50%;\n",
              "      cursor: pointer;\n",
              "      display: none;\n",
              "      fill: #1967D2;\n",
              "      height: 32px;\n",
              "      padding: 0 0 0 0;\n",
              "      width: 32px;\n",
              "    }\n",
              "\n",
              "    .colab-df-convert:hover {\n",
              "      background-color: #E2EBFA;\n",
              "      box-shadow: 0px 1px 2px rgba(60, 64, 67, 0.3), 0px 1px 3px 1px rgba(60, 64, 67, 0.15);\n",
              "      fill: #174EA6;\n",
              "    }\n",
              "\n",
              "    [theme=dark] .colab-df-convert {\n",
              "      background-color: #3B4455;\n",
              "      fill: #D2E3FC;\n",
              "    }\n",
              "\n",
              "    [theme=dark] .colab-df-convert:hover {\n",
              "      background-color: #434B5C;\n",
              "      box-shadow: 0px 1px 3px 1px rgba(0, 0, 0, 0.15);\n",
              "      filter: drop-shadow(0px 1px 2px rgba(0, 0, 0, 0.3));\n",
              "      fill: #FFFFFF;\n",
              "    }\n",
              "  </style>\n",
              "\n",
              "      <script>\n",
              "        const buttonEl =\n",
              "          document.querySelector('#df-2309fd08-68cd-4fde-8e51-732b17838bf7 button.colab-df-convert');\n",
              "        buttonEl.style.display =\n",
              "          google.colab.kernel.accessAllowed ? 'block' : 'none';\n",
              "\n",
              "        async function convertToInteractive(key) {\n",
              "          const element = document.querySelector('#df-2309fd08-68cd-4fde-8e51-732b17838bf7');\n",
              "          const dataTable =\n",
              "            await google.colab.kernel.invokeFunction('convertToInteractive',\n",
              "                                                     [key], {});\n",
              "          if (!dataTable) return;\n",
              "\n",
              "          const docLinkHtml = 'Like what you see? Visit the ' +\n",
              "            '<a target=\"_blank\" href=https://colab.research.google.com/notebooks/data_table.ipynb>data table notebook</a>'\n",
              "            + ' to learn more about interactive tables.';\n",
              "          element.innerHTML = '';\n",
              "          dataTable['output_type'] = 'display_data';\n",
              "          await google.colab.output.renderOutput(dataTable, element);\n",
              "          const docLink = document.createElement('div');\n",
              "          docLink.innerHTML = docLinkHtml;\n",
              "          element.appendChild(docLink);\n",
              "        }\n",
              "      </script>\n",
              "    </div>\n",
              "  </div>\n",
              "  "
            ]
          },
          "metadata": {},
          "execution_count": 71
        }
      ]
    },
    {
      "cell_type": "code",
      "source": [
        "ecdf.head(10)"
      ],
      "metadata": {
        "colab": {
          "base_uri": "https://localhost:8080/",
          "height": 392
        },
        "id": "jGUvLCca3u8u",
        "outputId": "4fc1a792-f555-4f12-e7c2-f855a4197c16"
      },
      "execution_count": null,
      "outputs": [
        {
          "output_type": "execute_result",
          "data": {
            "text/plain": [
              "         x_1       x_2       x_3       x_4       x_5       x_6       x_7  \\\n",
              "0  -1.036672 -0.189259 -0.141652 -0.099996 -0.054769 -0.007161  0.117808   \n",
              "1 -13.817284 -3.694757 -2.725945 -2.001122 -1.566705 -0.466973  3.379706   \n",
              "2  -0.849502 -0.072311 -0.042556 -0.024703 -0.009231  0.006241  0.022904   \n",
              "3 -12.232441 -2.601460 -1.414844 -0.720966 -0.077076  0.622753  1.309490   \n",
              "4 -10.841441 -3.639629 -2.047161 -0.814129  0.068989  0.868794  1.613850   \n",
              "5 -14.567050 -3.849430 -2.105808 -0.823978  0.075802  0.798245  1.568295   \n",
              "6  -4.467219 -1.083521 -0.734797 -0.496760 -0.276576 -0.049250  0.230443   \n",
              "7  -0.844419 -0.210050 -0.157682 -0.107694 -0.041044  0.017275  0.117251   \n",
              "8 -13.240703 -3.756115 -2.882518 -2.118419 -1.561412 -0.336711  3.988423   \n",
              "9  -0.661595 -0.074833 -0.045079 -0.026036 -0.009373  0.006099  0.022762   \n",
              "\n",
              "        x_8       x_9      x_10  ...       z_2       z_3       z_4       z_5  \\\n",
              "0  0.176127  0.220164  0.620067  ... -0.152755 -0.113479 -0.083724 -0.053969   \n",
              "1  4.297339  4.360419  6.558692  ... -2.619598 -1.449646 -0.668884 -0.323730   \n",
              "2  0.043137  0.077653  0.406144  ... -0.055981 -0.034558 -0.019086 -0.005994   \n",
              "3  1.930767  2.487774  6.545116  ... -3.175324 -2.361237 -1.460266 -0.743775   \n",
              "4  2.302967  3.028981  5.559315  ... -2.672350 -1.954669 -1.271502 -0.620471   \n",
              "5  2.416897  3.257168  9.269985  ... -3.106543 -2.184149 -1.492651 -0.845190   \n",
              "6  0.661291  1.520605  5.303014  ... -0.932583 -0.551724 -0.282742 -0.070889   \n",
              "7  0.166048  0.217226  0.627840  ... -0.158464 -0.119188 -0.090624 -0.058489   \n",
              "8  4.243122  4.308583  4.759663  ... -2.517601 -1.466667 -0.806114 -0.269340   \n",
              "9  0.045375  0.082271  0.430995  ... -0.055120 -0.033696 -0.019414 -0.006322   \n",
              "\n",
              "        z_6       z_7       z_8       z_9       z_10          gt  \n",
              "0 -0.009933  0.092423  0.148362  0.193589   0.587541       stand  \n",
              "1  0.777191  1.484162  1.528199  1.578186  15.658081     no_task  \n",
              "2  0.007098  0.020190  0.034473  0.055896   0.293933         sit  \n",
              "3 -0.099884  0.634460  1.807983  4.063385  10.016693        walk  \n",
              "4  0.000806  0.686353  1.840833  3.273817   8.770094    stairsup  \n",
              "5 -0.126318  0.756799  1.979120  3.844141  15.353235  stairsdown  \n",
              "6  0.132633  0.349246  0.587284  0.890781   6.598911        bike  \n",
              "7 -0.007311  0.100996  0.150984  0.196211   0.572309       stand  \n",
              "8  0.835152  1.476662  1.517128  1.565926   7.991737     no_task  \n",
              "9  0.006770  0.019862  0.034144  0.054378   0.332881         sit  \n",
              "\n",
              "[10 rows x 31 columns]"
            ],
            "text/html": [
              "\n",
              "  <div id=\"df-aec20474-6a83-466a-bbc6-22ae2fef1354\">\n",
              "    <div class=\"colab-df-container\">\n",
              "      <div>\n",
              "<style scoped>\n",
              "    .dataframe tbody tr th:only-of-type {\n",
              "        vertical-align: middle;\n",
              "    }\n",
              "\n",
              "    .dataframe tbody tr th {\n",
              "        vertical-align: top;\n",
              "    }\n",
              "\n",
              "    .dataframe thead th {\n",
              "        text-align: right;\n",
              "    }\n",
              "</style>\n",
              "<table border=\"1\" class=\"dataframe\">\n",
              "  <thead>\n",
              "    <tr style=\"text-align: right;\">\n",
              "      <th></th>\n",
              "      <th>x_1</th>\n",
              "      <th>x_2</th>\n",
              "      <th>x_3</th>\n",
              "      <th>x_4</th>\n",
              "      <th>x_5</th>\n",
              "      <th>x_6</th>\n",
              "      <th>x_7</th>\n",
              "      <th>x_8</th>\n",
              "      <th>x_9</th>\n",
              "      <th>x_10</th>\n",
              "      <th>...</th>\n",
              "      <th>z_2</th>\n",
              "      <th>z_3</th>\n",
              "      <th>z_4</th>\n",
              "      <th>z_5</th>\n",
              "      <th>z_6</th>\n",
              "      <th>z_7</th>\n",
              "      <th>z_8</th>\n",
              "      <th>z_9</th>\n",
              "      <th>z_10</th>\n",
              "      <th>gt</th>\n",
              "    </tr>\n",
              "  </thead>\n",
              "  <tbody>\n",
              "    <tr>\n",
              "      <th>0</th>\n",
              "      <td>-1.036672</td>\n",
              "      <td>-0.189259</td>\n",
              "      <td>-0.141652</td>\n",
              "      <td>-0.099996</td>\n",
              "      <td>-0.054769</td>\n",
              "      <td>-0.007161</td>\n",
              "      <td>0.117808</td>\n",
              "      <td>0.176127</td>\n",
              "      <td>0.220164</td>\n",
              "      <td>0.620067</td>\n",
              "      <td>...</td>\n",
              "      <td>-0.152755</td>\n",
              "      <td>-0.113479</td>\n",
              "      <td>-0.083724</td>\n",
              "      <td>-0.053969</td>\n",
              "      <td>-0.009933</td>\n",
              "      <td>0.092423</td>\n",
              "      <td>0.148362</td>\n",
              "      <td>0.193589</td>\n",
              "      <td>0.587541</td>\n",
              "      <td>stand</td>\n",
              "    </tr>\n",
              "    <tr>\n",
              "      <th>1</th>\n",
              "      <td>-13.817284</td>\n",
              "      <td>-3.694757</td>\n",
              "      <td>-2.725945</td>\n",
              "      <td>-2.001122</td>\n",
              "      <td>-1.566705</td>\n",
              "      <td>-0.466973</td>\n",
              "      <td>3.379706</td>\n",
              "      <td>4.297339</td>\n",
              "      <td>4.360419</td>\n",
              "      <td>6.558692</td>\n",
              "      <td>...</td>\n",
              "      <td>-2.619598</td>\n",
              "      <td>-1.449646</td>\n",
              "      <td>-0.668884</td>\n",
              "      <td>-0.323730</td>\n",
              "      <td>0.777191</td>\n",
              "      <td>1.484162</td>\n",
              "      <td>1.528199</td>\n",
              "      <td>1.578186</td>\n",
              "      <td>15.658081</td>\n",
              "      <td>no_task</td>\n",
              "    </tr>\n",
              "    <tr>\n",
              "      <th>2</th>\n",
              "      <td>-0.849502</td>\n",
              "      <td>-0.072311</td>\n",
              "      <td>-0.042556</td>\n",
              "      <td>-0.024703</td>\n",
              "      <td>-0.009231</td>\n",
              "      <td>0.006241</td>\n",
              "      <td>0.022904</td>\n",
              "      <td>0.043137</td>\n",
              "      <td>0.077653</td>\n",
              "      <td>0.406144</td>\n",
              "      <td>...</td>\n",
              "      <td>-0.055981</td>\n",
              "      <td>-0.034558</td>\n",
              "      <td>-0.019086</td>\n",
              "      <td>-0.005994</td>\n",
              "      <td>0.007098</td>\n",
              "      <td>0.020190</td>\n",
              "      <td>0.034473</td>\n",
              "      <td>0.055896</td>\n",
              "      <td>0.293933</td>\n",
              "      <td>sit</td>\n",
              "    </tr>\n",
              "    <tr>\n",
              "      <th>3</th>\n",
              "      <td>-12.232441</td>\n",
              "      <td>-2.601460</td>\n",
              "      <td>-1.414844</td>\n",
              "      <td>-0.720966</td>\n",
              "      <td>-0.077076</td>\n",
              "      <td>0.622753</td>\n",
              "      <td>1.309490</td>\n",
              "      <td>1.930767</td>\n",
              "      <td>2.487774</td>\n",
              "      <td>6.545116</td>\n",
              "      <td>...</td>\n",
              "      <td>-3.175324</td>\n",
              "      <td>-2.361237</td>\n",
              "      <td>-1.460266</td>\n",
              "      <td>-0.743775</td>\n",
              "      <td>-0.099884</td>\n",
              "      <td>0.634460</td>\n",
              "      <td>1.807983</td>\n",
              "      <td>4.063385</td>\n",
              "      <td>10.016693</td>\n",
              "      <td>walk</td>\n",
              "    </tr>\n",
              "    <tr>\n",
              "      <th>4</th>\n",
              "      <td>-10.841441</td>\n",
              "      <td>-3.639629</td>\n",
              "      <td>-2.047161</td>\n",
              "      <td>-0.814129</td>\n",
              "      <td>0.068989</td>\n",
              "      <td>0.868794</td>\n",
              "      <td>1.613850</td>\n",
              "      <td>2.302967</td>\n",
              "      <td>3.028981</td>\n",
              "      <td>5.559315</td>\n",
              "      <td>...</td>\n",
              "      <td>-2.672350</td>\n",
              "      <td>-1.954669</td>\n",
              "      <td>-1.271502</td>\n",
              "      <td>-0.620471</td>\n",
              "      <td>0.000806</td>\n",
              "      <td>0.686353</td>\n",
              "      <td>1.840833</td>\n",
              "      <td>3.273817</td>\n",
              "      <td>8.770094</td>\n",
              "      <td>stairsup</td>\n",
              "    </tr>\n",
              "    <tr>\n",
              "      <th>5</th>\n",
              "      <td>-14.567050</td>\n",
              "      <td>-3.849430</td>\n",
              "      <td>-2.105808</td>\n",
              "      <td>-0.823978</td>\n",
              "      <td>0.075802</td>\n",
              "      <td>0.798245</td>\n",
              "      <td>1.568295</td>\n",
              "      <td>2.416897</td>\n",
              "      <td>3.257168</td>\n",
              "      <td>9.269985</td>\n",
              "      <td>...</td>\n",
              "      <td>-3.106543</td>\n",
              "      <td>-2.184149</td>\n",
              "      <td>-1.492651</td>\n",
              "      <td>-0.845190</td>\n",
              "      <td>-0.126318</td>\n",
              "      <td>0.756799</td>\n",
              "      <td>1.979120</td>\n",
              "      <td>3.844141</td>\n",
              "      <td>15.353235</td>\n",
              "      <td>stairsdown</td>\n",
              "    </tr>\n",
              "    <tr>\n",
              "      <th>6</th>\n",
              "      <td>-4.467219</td>\n",
              "      <td>-1.083521</td>\n",
              "      <td>-0.734797</td>\n",
              "      <td>-0.496760</td>\n",
              "      <td>-0.276576</td>\n",
              "      <td>-0.049250</td>\n",
              "      <td>0.230443</td>\n",
              "      <td>0.661291</td>\n",
              "      <td>1.520605</td>\n",
              "      <td>5.303014</td>\n",
              "      <td>...</td>\n",
              "      <td>-0.932583</td>\n",
              "      <td>-0.551724</td>\n",
              "      <td>-0.282742</td>\n",
              "      <td>-0.070889</td>\n",
              "      <td>0.132633</td>\n",
              "      <td>0.349246</td>\n",
              "      <td>0.587284</td>\n",
              "      <td>0.890781</td>\n",
              "      <td>6.598911</td>\n",
              "      <td>bike</td>\n",
              "    </tr>\n",
              "    <tr>\n",
              "      <th>7</th>\n",
              "      <td>-0.844419</td>\n",
              "      <td>-0.210050</td>\n",
              "      <td>-0.157682</td>\n",
              "      <td>-0.107694</td>\n",
              "      <td>-0.041044</td>\n",
              "      <td>0.017275</td>\n",
              "      <td>0.117251</td>\n",
              "      <td>0.166048</td>\n",
              "      <td>0.217226</td>\n",
              "      <td>0.627840</td>\n",
              "      <td>...</td>\n",
              "      <td>-0.158464</td>\n",
              "      <td>-0.119188</td>\n",
              "      <td>-0.090624</td>\n",
              "      <td>-0.058489</td>\n",
              "      <td>-0.007311</td>\n",
              "      <td>0.100996</td>\n",
              "      <td>0.150984</td>\n",
              "      <td>0.196211</td>\n",
              "      <td>0.572309</td>\n",
              "      <td>stand</td>\n",
              "    </tr>\n",
              "    <tr>\n",
              "      <th>8</th>\n",
              "      <td>-13.240703</td>\n",
              "      <td>-3.756115</td>\n",
              "      <td>-2.882518</td>\n",
              "      <td>-2.118419</td>\n",
              "      <td>-1.561412</td>\n",
              "      <td>-0.336711</td>\n",
              "      <td>3.988423</td>\n",
              "      <td>4.243122</td>\n",
              "      <td>4.308583</td>\n",
              "      <td>4.759663</td>\n",
              "      <td>...</td>\n",
              "      <td>-2.517601</td>\n",
              "      <td>-1.466667</td>\n",
              "      <td>-0.806114</td>\n",
              "      <td>-0.269340</td>\n",
              "      <td>0.835152</td>\n",
              "      <td>1.476662</td>\n",
              "      <td>1.517128</td>\n",
              "      <td>1.565926</td>\n",
              "      <td>7.991737</td>\n",
              "      <td>no_task</td>\n",
              "    </tr>\n",
              "    <tr>\n",
              "      <th>9</th>\n",
              "      <td>-0.661595</td>\n",
              "      <td>-0.074833</td>\n",
              "      <td>-0.045079</td>\n",
              "      <td>-0.026036</td>\n",
              "      <td>-0.009373</td>\n",
              "      <td>0.006099</td>\n",
              "      <td>0.022762</td>\n",
              "      <td>0.045375</td>\n",
              "      <td>0.082271</td>\n",
              "      <td>0.430995</td>\n",
              "      <td>...</td>\n",
              "      <td>-0.055120</td>\n",
              "      <td>-0.033696</td>\n",
              "      <td>-0.019414</td>\n",
              "      <td>-0.006322</td>\n",
              "      <td>0.006770</td>\n",
              "      <td>0.019862</td>\n",
              "      <td>0.034144</td>\n",
              "      <td>0.054378</td>\n",
              "      <td>0.332881</td>\n",
              "      <td>sit</td>\n",
              "    </tr>\n",
              "  </tbody>\n",
              "</table>\n",
              "<p>10 rows × 31 columns</p>\n",
              "</div>\n",
              "      <button class=\"colab-df-convert\" onclick=\"convertToInteractive('df-aec20474-6a83-466a-bbc6-22ae2fef1354')\"\n",
              "              title=\"Convert this dataframe to an interactive table.\"\n",
              "              style=\"display:none;\">\n",
              "        \n",
              "  <svg xmlns=\"http://www.w3.org/2000/svg\" height=\"24px\"viewBox=\"0 0 24 24\"\n",
              "       width=\"24px\">\n",
              "    <path d=\"M0 0h24v24H0V0z\" fill=\"none\"/>\n",
              "    <path d=\"M18.56 5.44l.94 2.06.94-2.06 2.06-.94-2.06-.94-.94-2.06-.94 2.06-2.06.94zm-11 1L8.5 8.5l.94-2.06 2.06-.94-2.06-.94L8.5 2.5l-.94 2.06-2.06.94zm10 10l.94 2.06.94-2.06 2.06-.94-2.06-.94-.94-2.06-.94 2.06-2.06.94z\"/><path d=\"M17.41 7.96l-1.37-1.37c-.4-.4-.92-.59-1.43-.59-.52 0-1.04.2-1.43.59L10.3 9.45l-7.72 7.72c-.78.78-.78 2.05 0 2.83L4 21.41c.39.39.9.59 1.41.59.51 0 1.02-.2 1.41-.59l7.78-7.78 2.81-2.81c.8-.78.8-2.07 0-2.86zM5.41 20L4 18.59l7.72-7.72 1.47 1.35L5.41 20z\"/>\n",
              "  </svg>\n",
              "      </button>\n",
              "      \n",
              "  <style>\n",
              "    .colab-df-container {\n",
              "      display:flex;\n",
              "      flex-wrap:wrap;\n",
              "      gap: 12px;\n",
              "    }\n",
              "\n",
              "    .colab-df-convert {\n",
              "      background-color: #E8F0FE;\n",
              "      border: none;\n",
              "      border-radius: 50%;\n",
              "      cursor: pointer;\n",
              "      display: none;\n",
              "      fill: #1967D2;\n",
              "      height: 32px;\n",
              "      padding: 0 0 0 0;\n",
              "      width: 32px;\n",
              "    }\n",
              "\n",
              "    .colab-df-convert:hover {\n",
              "      background-color: #E2EBFA;\n",
              "      box-shadow: 0px 1px 2px rgba(60, 64, 67, 0.3), 0px 1px 3px 1px rgba(60, 64, 67, 0.15);\n",
              "      fill: #174EA6;\n",
              "    }\n",
              "\n",
              "    [theme=dark] .colab-df-convert {\n",
              "      background-color: #3B4455;\n",
              "      fill: #D2E3FC;\n",
              "    }\n",
              "\n",
              "    [theme=dark] .colab-df-convert:hover {\n",
              "      background-color: #434B5C;\n",
              "      box-shadow: 0px 1px 3px 1px rgba(0, 0, 0, 0.15);\n",
              "      filter: drop-shadow(0px 1px 2px rgba(0, 0, 0, 0.3));\n",
              "      fill: #FFFFFF;\n",
              "    }\n",
              "  </style>\n",
              "\n",
              "      <script>\n",
              "        const buttonEl =\n",
              "          document.querySelector('#df-aec20474-6a83-466a-bbc6-22ae2fef1354 button.colab-df-convert');\n",
              "        buttonEl.style.display =\n",
              "          google.colab.kernel.accessAllowed ? 'block' : 'none';\n",
              "\n",
              "        async function convertToInteractive(key) {\n",
              "          const element = document.querySelector('#df-aec20474-6a83-466a-bbc6-22ae2fef1354');\n",
              "          const dataTable =\n",
              "            await google.colab.kernel.invokeFunction('convertToInteractive',\n",
              "                                                     [key], {});\n",
              "          if (!dataTable) return;\n",
              "\n",
              "          const docLinkHtml = 'Like what you see? Visit the ' +\n",
              "            '<a target=\"_blank\" href=https://colab.research.google.com/notebooks/data_table.ipynb>data table notebook</a>'\n",
              "            + ' to learn more about interactive tables.';\n",
              "          element.innerHTML = '';\n",
              "          dataTable['output_type'] = 'display_data';\n",
              "          await google.colab.output.renderOutput(dataTable, element);\n",
              "          const docLink = document.createElement('div');\n",
              "          docLink.innerHTML = docLinkHtml;\n",
              "          element.appendChild(docLink);\n",
              "        }\n",
              "      </script>\n",
              "    </div>\n",
              "  </div>\n",
              "  "
            ]
          },
          "metadata": {},
          "execution_count": 72
        }
      ]
    },
    {
      "cell_type": "code",
      "source": [
        "test = pd.DataFrame()\n",
        "\n",
        "for i in range(0,11):\n",
        "  test[f'x{i+1}'] = [xs[np.searchsorted(F(xs), bins)][i]]\n",
        "\n",
        "test"
      ],
      "metadata": {
        "colab": {
          "base_uri": "https://localhost:8080/",
          "height": 81
        },
        "id": "JuhjvK73300R",
        "outputId": "9862f7ed-02e4-4ace-d26f-a9c3cda54ed0"
      },
      "execution_count": null,
      "outputs": [
        {
          "output_type": "execute_result",
          "data": {
            "text/plain": [
              "         x1        x2        x3        x4        x5        x6        x7  \\\n",
              "0 -9.259766 -5.923675 -5.584473 -5.358337 -5.153626 -4.959625 -4.740631   \n",
              "\n",
              "         x8        x9       x10       x11  \n",
              "0 -4.458557 -3.978912 -3.168396  0.510467  "
            ],
            "text/html": [
              "\n",
              "  <div id=\"df-1991208d-927e-4e28-9ed3-424706b01e9c\">\n",
              "    <div class=\"colab-df-container\">\n",
              "      <div>\n",
              "<style scoped>\n",
              "    .dataframe tbody tr th:only-of-type {\n",
              "        vertical-align: middle;\n",
              "    }\n",
              "\n",
              "    .dataframe tbody tr th {\n",
              "        vertical-align: top;\n",
              "    }\n",
              "\n",
              "    .dataframe thead th {\n",
              "        text-align: right;\n",
              "    }\n",
              "</style>\n",
              "<table border=\"1\" class=\"dataframe\">\n",
              "  <thead>\n",
              "    <tr style=\"text-align: right;\">\n",
              "      <th></th>\n",
              "      <th>x1</th>\n",
              "      <th>x2</th>\n",
              "      <th>x3</th>\n",
              "      <th>x4</th>\n",
              "      <th>x5</th>\n",
              "      <th>x6</th>\n",
              "      <th>x7</th>\n",
              "      <th>x8</th>\n",
              "      <th>x9</th>\n",
              "      <th>x10</th>\n",
              "      <th>x11</th>\n",
              "    </tr>\n",
              "  </thead>\n",
              "  <tbody>\n",
              "    <tr>\n",
              "      <th>0</th>\n",
              "      <td>-9.259766</td>\n",
              "      <td>-5.923675</td>\n",
              "      <td>-5.584473</td>\n",
              "      <td>-5.358337</td>\n",
              "      <td>-5.153626</td>\n",
              "      <td>-4.959625</td>\n",
              "      <td>-4.740631</td>\n",
              "      <td>-4.458557</td>\n",
              "      <td>-3.978912</td>\n",
              "      <td>-3.168396</td>\n",
              "      <td>0.510467</td>\n",
              "    </tr>\n",
              "  </tbody>\n",
              "</table>\n",
              "</div>\n",
              "      <button class=\"colab-df-convert\" onclick=\"convertToInteractive('df-1991208d-927e-4e28-9ed3-424706b01e9c')\"\n",
              "              title=\"Convert this dataframe to an interactive table.\"\n",
              "              style=\"display:none;\">\n",
              "        \n",
              "  <svg xmlns=\"http://www.w3.org/2000/svg\" height=\"24px\"viewBox=\"0 0 24 24\"\n",
              "       width=\"24px\">\n",
              "    <path d=\"M0 0h24v24H0V0z\" fill=\"none\"/>\n",
              "    <path d=\"M18.56 5.44l.94 2.06.94-2.06 2.06-.94-2.06-.94-.94-2.06-.94 2.06-2.06.94zm-11 1L8.5 8.5l.94-2.06 2.06-.94-2.06-.94L8.5 2.5l-.94 2.06-2.06.94zm10 10l.94 2.06.94-2.06 2.06-.94-2.06-.94-.94-2.06-.94 2.06-2.06.94z\"/><path d=\"M17.41 7.96l-1.37-1.37c-.4-.4-.92-.59-1.43-.59-.52 0-1.04.2-1.43.59L10.3 9.45l-7.72 7.72c-.78.78-.78 2.05 0 2.83L4 21.41c.39.39.9.59 1.41.59.51 0 1.02-.2 1.41-.59l7.78-7.78 2.81-2.81c.8-.78.8-2.07 0-2.86zM5.41 20L4 18.59l7.72-7.72 1.47 1.35L5.41 20z\"/>\n",
              "  </svg>\n",
              "      </button>\n",
              "      \n",
              "  <style>\n",
              "    .colab-df-container {\n",
              "      display:flex;\n",
              "      flex-wrap:wrap;\n",
              "      gap: 12px;\n",
              "    }\n",
              "\n",
              "    .colab-df-convert {\n",
              "      background-color: #E8F0FE;\n",
              "      border: none;\n",
              "      border-radius: 50%;\n",
              "      cursor: pointer;\n",
              "      display: none;\n",
              "      fill: #1967D2;\n",
              "      height: 32px;\n",
              "      padding: 0 0 0 0;\n",
              "      width: 32px;\n",
              "    }\n",
              "\n",
              "    .colab-df-convert:hover {\n",
              "      background-color: #E2EBFA;\n",
              "      box-shadow: 0px 1px 2px rgba(60, 64, 67, 0.3), 0px 1px 3px 1px rgba(60, 64, 67, 0.15);\n",
              "      fill: #174EA6;\n",
              "    }\n",
              "\n",
              "    [theme=dark] .colab-df-convert {\n",
              "      background-color: #3B4455;\n",
              "      fill: #D2E3FC;\n",
              "    }\n",
              "\n",
              "    [theme=dark] .colab-df-convert:hover {\n",
              "      background-color: #434B5C;\n",
              "      box-shadow: 0px 1px 3px 1px rgba(0, 0, 0, 0.15);\n",
              "      filter: drop-shadow(0px 1px 2px rgba(0, 0, 0, 0.3));\n",
              "      fill: #FFFFFF;\n",
              "    }\n",
              "  </style>\n",
              "\n",
              "      <script>\n",
              "        const buttonEl =\n",
              "          document.querySelector('#df-1991208d-927e-4e28-9ed3-424706b01e9c button.colab-df-convert');\n",
              "        buttonEl.style.display =\n",
              "          google.colab.kernel.accessAllowed ? 'block' : 'none';\n",
              "\n",
              "        async function convertToInteractive(key) {\n",
              "          const element = document.querySelector('#df-1991208d-927e-4e28-9ed3-424706b01e9c');\n",
              "          const dataTable =\n",
              "            await google.colab.kernel.invokeFunction('convertToInteractive',\n",
              "                                                     [key], {});\n",
              "          if (!dataTable) return;\n",
              "\n",
              "          const docLinkHtml = 'Like what you see? Visit the ' +\n",
              "            '<a target=\"_blank\" href=https://colab.research.google.com/notebooks/data_table.ipynb>data table notebook</a>'\n",
              "            + ' to learn more about interactive tables.';\n",
              "          element.innerHTML = '';\n",
              "          dataTable['output_type'] = 'display_data';\n",
              "          await google.colab.output.renderOutput(dataTable, element);\n",
              "          const docLink = document.createElement('div');\n",
              "          docLink.innerHTML = docLinkHtml;\n",
              "          element.appendChild(docLink);\n",
              "        }\n",
              "      </script>\n",
              "    </div>\n",
              "  </div>\n",
              "  "
            ]
          },
          "metadata": {},
          "execution_count": 80
        }
      ]
    },
    {
      "cell_type": "code",
      "source": [
        "x = paccel['x'].loc[paccel.id==0]\n",
        "\n",
        "x_new = resample_poly(x.values, 15050, x.values.shape[0])\n",
        "x_new"
      ],
      "metadata": {
        "colab": {
          "base_uri": "https://localhost:8080/"
        },
        "id": "0fQafpFb5AQs",
        "outputId": "17df7099-610d-418e-e5be-eb988b133a86"
      },
      "execution_count": null,
      "outputs": [
        {
          "output_type": "execute_result",
          "data": {
            "text/plain": [
              "array([-5.12914121, -7.7079721 , -6.87054131, ..., -5.7863166 ,\n",
              "       -5.65032448, -6.41379353])"
            ]
          },
          "metadata": {},
          "execution_count": 10
        }
      ]
    },
    {
      "cell_type": "code",
      "source": [
        "plt.rcdefaults()\n",
        "fig, (ax1, ax2) = plt.subplots(2, 1, figsize=(8,4))\n",
        "\n",
        "ax1.plot(x.values)\n",
        "ax1.set_title('Original Data (~36k samples)')\n",
        "ax1.set_ylabel('X acceleration')\n",
        "\n",
        "ax2.plot(x_new)\n",
        "ax2.set_title('Resampled Data (~15k samples)')\n",
        "ax2.set_ylabel('X acceleration')\n",
        "ax2.set_xlabel('Sample')\n",
        "\n",
        "fig.tight_layout()"
      ],
      "metadata": {
        "colab": {
          "base_uri": "https://localhost:8080/",
          "height": 407
        },
        "id": "5o2Oa3H3AS7U",
        "outputId": "1f6763a6-e7f3-4595-9385-8fe420dad235"
      },
      "execution_count": null,
      "outputs": [
        {
          "output_type": "display_data",
          "data": {
            "text/plain": [
              "<Figure size 800x400 with 2 Axes>"
            ],
            "image/png": "[encoded data removed]"
          },
          "metadata": {}
        }
      ]
    }
  ]
}